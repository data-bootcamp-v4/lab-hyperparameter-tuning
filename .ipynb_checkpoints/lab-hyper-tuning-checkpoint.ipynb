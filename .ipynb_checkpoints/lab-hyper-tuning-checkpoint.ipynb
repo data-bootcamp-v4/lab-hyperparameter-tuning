{
 "cells": [
  {
   "cell_type": "markdown",
   "metadata": {},
   "source": [
    "# LAB | Hyperparameter Tuning"
   ]
  },
  {
   "cell_type": "markdown",
   "metadata": {},
   "source": [
    "**Load the data**\n",
    "\n",
    "Finally step in order to maximize the performance on your Spaceship Titanic model.\n",
    "\n",
    "The data can be found here:\n",
    "\n",
    "https://raw.githubusercontent.com/data-bootcamp-v4/data/main/spaceship_titanic.csv\n",
    "\n",
    "Metadata\n",
    "\n",
    "https://github.com/data-bootcamp-v4/data/blob/main/spaceship_titanic.md"
   ]
  },
  {
   "cell_type": "markdown",
   "metadata": {},
   "source": [
    "So far we've been training and evaluating models with default values for hyperparameters.\n",
    "\n",
    "Today we will perform the same feature engineering as before, and then compare the best working models you got so far, but now fine tuning it's hyperparameters."
   ]
  },
  {
   "cell_type": "code",
   "execution_count": 11,
   "metadata": {},
   "outputs": [],
   "source": [
    "#Libraries\n",
    "import pandas as pd\n",
    "import numpy as np\n",
    "from sklearn.model_selection import train_test_split\n",
    "from sklearn.tree import DecisionTreeRegressor\n",
    "from sklearn.ensemble import BaggingRegressor, RandomForestRegressor,AdaBoostRegressor, GradientBoostingRegressor\n",
    "\n",
    "from sklearn.preprocessing import MinMaxScaler, StandardScaler\n",
    "from sklearn.metrics import r2_score, mean_absolute_error, mean_squared_error\n",
    "from sklearn.model_selection import GridSearchCV"
   ]
  },
  {
   "cell_type": "code",
   "execution_count": 5,
   "metadata": {},
   "outputs": [
    {
     "data": {
      "text/html": [
       "<div>\n",
       "<style scoped>\n",
       "    .dataframe tbody tr th:only-of-type {\n",
       "        vertical-align: middle;\n",
       "    }\n",
       "\n",
       "    .dataframe tbody tr th {\n",
       "        vertical-align: top;\n",
       "    }\n",
       "\n",
       "    .dataframe thead th {\n",
       "        text-align: right;\n",
       "    }\n",
       "</style>\n",
       "<table border=\"1\" class=\"dataframe\">\n",
       "  <thead>\n",
       "    <tr style=\"text-align: right;\">\n",
       "      <th></th>\n",
       "      <th>PassengerId</th>\n",
       "      <th>HomePlanet</th>\n",
       "      <th>CryoSleep</th>\n",
       "      <th>Cabin</th>\n",
       "      <th>Destination</th>\n",
       "      <th>Age</th>\n",
       "      <th>VIP</th>\n",
       "      <th>RoomService</th>\n",
       "      <th>FoodCourt</th>\n",
       "      <th>ShoppingMall</th>\n",
       "      <th>Spa</th>\n",
       "      <th>VRDeck</th>\n",
       "      <th>Name</th>\n",
       "      <th>Transported</th>\n",
       "    </tr>\n",
       "  </thead>\n",
       "  <tbody>\n",
       "    <tr>\n",
       "      <th>0</th>\n",
       "      <td>0001_01</td>\n",
       "      <td>Europa</td>\n",
       "      <td>False</td>\n",
       "      <td>B/0/P</td>\n",
       "      <td>TRAPPIST-1e</td>\n",
       "      <td>39.0</td>\n",
       "      <td>False</td>\n",
       "      <td>0.0</td>\n",
       "      <td>0.0</td>\n",
       "      <td>0.0</td>\n",
       "      <td>0.0</td>\n",
       "      <td>0.0</td>\n",
       "      <td>Maham Ofracculy</td>\n",
       "      <td>False</td>\n",
       "    </tr>\n",
       "    <tr>\n",
       "      <th>1</th>\n",
       "      <td>0002_01</td>\n",
       "      <td>Earth</td>\n",
       "      <td>False</td>\n",
       "      <td>F/0/S</td>\n",
       "      <td>TRAPPIST-1e</td>\n",
       "      <td>24.0</td>\n",
       "      <td>False</td>\n",
       "      <td>109.0</td>\n",
       "      <td>9.0</td>\n",
       "      <td>25.0</td>\n",
       "      <td>549.0</td>\n",
       "      <td>44.0</td>\n",
       "      <td>Juanna Vines</td>\n",
       "      <td>True</td>\n",
       "    </tr>\n",
       "    <tr>\n",
       "      <th>2</th>\n",
       "      <td>0003_01</td>\n",
       "      <td>Europa</td>\n",
       "      <td>False</td>\n",
       "      <td>A/0/S</td>\n",
       "      <td>TRAPPIST-1e</td>\n",
       "      <td>58.0</td>\n",
       "      <td>True</td>\n",
       "      <td>43.0</td>\n",
       "      <td>3576.0</td>\n",
       "      <td>0.0</td>\n",
       "      <td>6715.0</td>\n",
       "      <td>49.0</td>\n",
       "      <td>Altark Susent</td>\n",
       "      <td>False</td>\n",
       "    </tr>\n",
       "    <tr>\n",
       "      <th>3</th>\n",
       "      <td>0003_02</td>\n",
       "      <td>Europa</td>\n",
       "      <td>False</td>\n",
       "      <td>A/0/S</td>\n",
       "      <td>TRAPPIST-1e</td>\n",
       "      <td>33.0</td>\n",
       "      <td>False</td>\n",
       "      <td>0.0</td>\n",
       "      <td>1283.0</td>\n",
       "      <td>371.0</td>\n",
       "      <td>3329.0</td>\n",
       "      <td>193.0</td>\n",
       "      <td>Solam Susent</td>\n",
       "      <td>False</td>\n",
       "    </tr>\n",
       "    <tr>\n",
       "      <th>4</th>\n",
       "      <td>0004_01</td>\n",
       "      <td>Earth</td>\n",
       "      <td>False</td>\n",
       "      <td>F/1/S</td>\n",
       "      <td>TRAPPIST-1e</td>\n",
       "      <td>16.0</td>\n",
       "      <td>False</td>\n",
       "      <td>303.0</td>\n",
       "      <td>70.0</td>\n",
       "      <td>151.0</td>\n",
       "      <td>565.0</td>\n",
       "      <td>2.0</td>\n",
       "      <td>Willy Santantines</td>\n",
       "      <td>True</td>\n",
       "    </tr>\n",
       "  </tbody>\n",
       "</table>\n",
       "</div>"
      ],
      "text/plain": [
       "  PassengerId HomePlanet CryoSleep  Cabin  Destination   Age    VIP  \\\n",
       "0     0001_01     Europa     False  B/0/P  TRAPPIST-1e  39.0  False   \n",
       "1     0002_01      Earth     False  F/0/S  TRAPPIST-1e  24.0  False   \n",
       "2     0003_01     Europa     False  A/0/S  TRAPPIST-1e  58.0   True   \n",
       "3     0003_02     Europa     False  A/0/S  TRAPPIST-1e  33.0  False   \n",
       "4     0004_01      Earth     False  F/1/S  TRAPPIST-1e  16.0  False   \n",
       "\n",
       "   RoomService  FoodCourt  ShoppingMall     Spa  VRDeck               Name  \\\n",
       "0          0.0        0.0           0.0     0.0     0.0    Maham Ofracculy   \n",
       "1        109.0        9.0          25.0   549.0    44.0       Juanna Vines   \n",
       "2         43.0     3576.0           0.0  6715.0    49.0      Altark Susent   \n",
       "3          0.0     1283.0         371.0  3329.0   193.0       Solam Susent   \n",
       "4        303.0       70.0         151.0   565.0     2.0  Willy Santantines   \n",
       "\n",
       "   Transported  \n",
       "0        False  \n",
       "1         True  \n",
       "2        False  \n",
       "3        False  \n",
       "4         True  "
      ]
     },
     "execution_count": 5,
     "metadata": {},
     "output_type": "execute_result"
    }
   ],
   "source": [
    "spaceship = pd.read_csv(\"https://raw.githubusercontent.com/data-bootcamp-v4/data/main/spaceship_titanic.csv\")\n",
    "spaceship.head()"
   ]
  },
  {
   "cell_type": "markdown",
   "metadata": {},
   "source": [
    "Now perform the same as before:\n",
    "- Feature Scaling\n",
    "- Feature Selection\n"
   ]
  },
  {
   "cell_type": "code",
   "execution_count": 6,
   "metadata": {},
   "outputs": [],
   "source": [
    "spaceship = spaceship.dropna()\n",
    "\n",
    "spaceship_numerical = spaceship.select_dtypes(include = [\"number\"])\n",
    "spaceship_non_num = spaceship.select_dtypes(exclude = [\"number\"])\n",
    "spaceship_non_num = pd.get_dummies(spaceship_non_num)\n",
    "spaceship_non_num\n",
    "spaceship2 = pd.concat([spaceship_numerical, spaceship_non_num], axis=1)\n",
    "spaceship2\n",
    "\n",
    "normalizer = MinMaxScaler()\n",
    "\n",
    "normalizer.fit(spaceship2)\n",
    "\n",
    "spaceship_norm = normalizer.transform(spaceship2)"
   ]
  },
  {
   "cell_type": "markdown",
   "metadata": {},
   "source": [
    "- Now let's use the best model we got so far in order to see how it can improve when we fine tune it's hyperparameters."
   ]
  },
  {
   "cell_type": "code",
   "execution_count": 7,
   "metadata": {},
   "outputs": [],
   "source": [
    "features = spaceship2.drop(columns = \"Transported\")\n",
    "target = spaceship2[\"Transported\"]\n",
    "\n",
    "X_train, X_test, y_train, y_test = train_test_split(features, target, test_size = 0.20, random_state=0)\n"
   ]
  },
  {
   "cell_type": "code",
   "execution_count": 8,
   "metadata": {},
   "outputs": [
    {
     "name": "stdout",
     "output_type": "stream",
     "text": [
      "MAE 0.2546634173886631\n",
      "RMSE 0.39295393922046323\n",
      "R2 score 0.3823488066044819\n"
     ]
    }
   ],
   "source": [
    "forest = RandomForestRegressor(n_estimators=100,\n",
    "                             max_depth=20)\n",
    "\n",
    "forest.fit(X_train, y_train)\n",
    "\n",
    "pred = forest.predict(X_test)\n",
    "\n",
    "print(\"MAE\", mean_absolute_error(pred, y_test))\n",
    "print(\"RMSE\", mean_squared_error(pred, y_test, squared=False))\n",
    "print(\"R2 score\", forest.score(X_test, y_test))"
   ]
  },
  {
   "cell_type": "markdown",
   "metadata": {},
   "source": [
    "- Evaluate your model"
   ]
  },
  {
   "cell_type": "code",
   "execution_count": 1,
   "metadata": {},
   "outputs": [],
   "source": [
    "#the model is not so accurate right now"
   ]
  },
  {
   "cell_type": "markdown",
   "metadata": {},
   "source": [
    "**Grid/Random Search**"
   ]
  },
  {
   "cell_type": "markdown",
   "metadata": {},
   "source": [
    "For this lab we will use Grid Search."
   ]
  },
  {
   "cell_type": "markdown",
   "metadata": {},
   "source": [
    "- Define hyperparameters to fine tune."
   ]
  },
  {
   "cell_type": "code",
   "execution_count": 14,
   "metadata": {},
   "outputs": [],
   "source": [
    "grid = {\"max_leaf_nodes\": [250, 500, 1000],\n",
    "        \"max_depth\":[10,30,50]}\n",
    "\n",
    "dt = DecisionTreeRegressor()\n",
    "\n",
    "model = GridSearchCV(estimator = dt, param_grid = grid, cv=5, verbose=10) # The \"cv\" option here is used to provide the desired number of folds K."
   ]
  },
  {
   "cell_type": "markdown",
   "metadata": {},
   "source": [
    "- Run Grid Search"
   ]
  },
  {
   "cell_type": "code",
   "execution_count": 15,
   "metadata": {},
   "outputs": [
    {
     "name": "stdout",
     "output_type": "stream",
     "text": [
      "Fitting 5 folds for each of 9 candidates, totalling 45 fits\n",
      "[CV 1/5; 1/9] START max_depth=10, max_leaf_nodes=250............................\n",
      "[CV 1/5; 1/9] END max_depth=10, max_leaf_nodes=250;, score=0.399 total time=   3.6s\n",
      "[CV 2/5; 1/9] START max_depth=10, max_leaf_nodes=250............................\n",
      "[CV 2/5; 1/9] END max_depth=10, max_leaf_nodes=250;, score=0.366 total time=   3.4s\n",
      "[CV 3/5; 1/9] START max_depth=10, max_leaf_nodes=250............................\n",
      "[CV 3/5; 1/9] END max_depth=10, max_leaf_nodes=250;, score=0.342 total time=   3.5s\n",
      "[CV 4/5; 1/9] START max_depth=10, max_leaf_nodes=250............................\n",
      "[CV 4/5; 1/9] END max_depth=10, max_leaf_nodes=250;, score=0.299 total time=   3.5s\n",
      "[CV 5/5; 1/9] START max_depth=10, max_leaf_nodes=250............................\n",
      "[CV 5/5; 1/9] END max_depth=10, max_leaf_nodes=250;, score=0.377 total time=   3.3s\n",
      "[CV 1/5; 2/9] START max_depth=10, max_leaf_nodes=500............................\n",
      "[CV 1/5; 2/9] END max_depth=10, max_leaf_nodes=500;, score=0.383 total time=   3.5s\n",
      "[CV 2/5; 2/9] START max_depth=10, max_leaf_nodes=500............................\n",
      "[CV 2/5; 2/9] END max_depth=10, max_leaf_nodes=500;, score=0.360 total time=   3.4s\n",
      "[CV 3/5; 2/9] START max_depth=10, max_leaf_nodes=500............................\n",
      "[CV 3/5; 2/9] END max_depth=10, max_leaf_nodes=500;, score=0.332 total time=   3.6s\n",
      "[CV 4/5; 2/9] START max_depth=10, max_leaf_nodes=500............................\n",
      "[CV 4/5; 2/9] END max_depth=10, max_leaf_nodes=500;, score=0.312 total time=   3.5s\n",
      "[CV 5/5; 2/9] START max_depth=10, max_leaf_nodes=500............................\n",
      "[CV 5/5; 2/9] END max_depth=10, max_leaf_nodes=500;, score=0.364 total time=   3.3s\n",
      "[CV 1/5; 3/9] START max_depth=10, max_leaf_nodes=1000...........................\n",
      "[CV 1/5; 3/9] END max_depth=10, max_leaf_nodes=1000;, score=0.393 total time=   3.4s\n",
      "[CV 2/5; 3/9] START max_depth=10, max_leaf_nodes=1000...........................\n",
      "[CV 2/5; 3/9] END max_depth=10, max_leaf_nodes=1000;, score=0.352 total time=   3.4s\n",
      "[CV 3/5; 3/9] START max_depth=10, max_leaf_nodes=1000...........................\n",
      "[CV 3/5; 3/9] END max_depth=10, max_leaf_nodes=1000;, score=0.316 total time=   3.5s\n",
      "[CV 4/5; 3/9] START max_depth=10, max_leaf_nodes=1000...........................\n",
      "[CV 4/5; 3/9] END max_depth=10, max_leaf_nodes=1000;, score=0.304 total time=   3.5s\n",
      "[CV 5/5; 3/9] START max_depth=10, max_leaf_nodes=1000...........................\n",
      "[CV 5/5; 3/9] END max_depth=10, max_leaf_nodes=1000;, score=0.371 total time=   3.4s\n",
      "[CV 1/5; 4/9] START max_depth=30, max_leaf_nodes=250............................\n",
      "[CV 1/5; 4/9] END max_depth=30, max_leaf_nodes=250;, score=0.356 total time=   4.6s\n",
      "[CV 2/5; 4/9] START max_depth=30, max_leaf_nodes=250............................\n",
      "[CV 2/5; 4/9] END max_depth=30, max_leaf_nodes=250;, score=0.314 total time=   5.2s\n",
      "[CV 3/5; 4/9] START max_depth=30, max_leaf_nodes=250............................\n",
      "[CV 3/5; 4/9] END max_depth=30, max_leaf_nodes=250;, score=0.293 total time=   5.4s\n",
      "[CV 4/5; 4/9] START max_depth=30, max_leaf_nodes=250............................\n",
      "[CV 4/5; 4/9] END max_depth=30, max_leaf_nodes=250;, score=0.310 total time=   4.9s\n",
      "[CV 5/5; 4/9] START max_depth=30, max_leaf_nodes=250............................\n",
      "[CV 5/5; 4/9] END max_depth=30, max_leaf_nodes=250;, score=0.309 total time=   5.3s\n",
      "[CV 1/5; 5/9] START max_depth=30, max_leaf_nodes=500............................\n",
      "[CV 1/5; 5/9] END max_depth=30, max_leaf_nodes=500;, score=0.268 total time=   6.9s\n",
      "[CV 2/5; 5/9] START max_depth=30, max_leaf_nodes=500............................\n",
      "[CV 2/5; 5/9] END max_depth=30, max_leaf_nodes=500;, score=0.204 total time=   7.1s\n",
      "[CV 3/5; 5/9] START max_depth=30, max_leaf_nodes=500............................\n",
      "[CV 3/5; 5/9] END max_depth=30, max_leaf_nodes=500;, score=0.149 total time=   7.0s\n",
      "[CV 4/5; 5/9] START max_depth=30, max_leaf_nodes=500............................\n",
      "[CV 4/5; 5/9] END max_depth=30, max_leaf_nodes=500;, score=0.185 total time=   7.3s\n",
      "[CV 5/5; 5/9] START max_depth=30, max_leaf_nodes=500............................\n",
      "[CV 5/5; 5/9] END max_depth=30, max_leaf_nodes=500;, score=0.191 total time=   7.0s\n",
      "[CV 1/5; 6/9] START max_depth=30, max_leaf_nodes=1000...........................\n",
      "[CV 1/5; 6/9] END max_depth=30, max_leaf_nodes=1000;, score=0.242 total time=   7.3s\n",
      "[CV 2/5; 6/9] START max_depth=30, max_leaf_nodes=1000...........................\n",
      "[CV 2/5; 6/9] END max_depth=30, max_leaf_nodes=1000;, score=0.153 total time=   7.4s\n",
      "[CV 3/5; 6/9] START max_depth=30, max_leaf_nodes=1000...........................\n",
      "[CV 3/5; 6/9] END max_depth=30, max_leaf_nodes=1000;, score=0.073 total time=   8.2s\n",
      "[CV 4/5; 6/9] START max_depth=30, max_leaf_nodes=1000...........................\n",
      "[CV 4/5; 6/9] END max_depth=30, max_leaf_nodes=1000;, score=0.156 total time=   8.1s\n",
      "[CV 5/5; 6/9] START max_depth=30, max_leaf_nodes=1000...........................\n",
      "[CV 5/5; 6/9] END max_depth=30, max_leaf_nodes=1000;, score=0.146 total time=   8.0s\n",
      "[CV 1/5; 7/9] START max_depth=50, max_leaf_nodes=250............................\n",
      "[CV 1/5; 7/9] END max_depth=50, max_leaf_nodes=250;, score=0.336 total time=   4.4s\n",
      "[CV 2/5; 7/9] START max_depth=50, max_leaf_nodes=250............................\n",
      "[CV 2/5; 7/9] END max_depth=50, max_leaf_nodes=250;, score=0.317 total time=   5.3s\n",
      "[CV 3/5; 7/9] START max_depth=50, max_leaf_nodes=250............................\n",
      "[CV 3/5; 7/9] END max_depth=50, max_leaf_nodes=250;, score=0.306 total time=   5.8s\n",
      "[CV 4/5; 7/9] START max_depth=50, max_leaf_nodes=250............................\n",
      "[CV 4/5; 7/9] END max_depth=50, max_leaf_nodes=250;, score=0.317 total time=   5.0s\n",
      "[CV 5/5; 7/9] START max_depth=50, max_leaf_nodes=250............................\n",
      "[CV 5/5; 7/9] END max_depth=50, max_leaf_nodes=250;, score=0.306 total time=   5.4s\n",
      "[CV 1/5; 8/9] START max_depth=50, max_leaf_nodes=500............................\n",
      "[CV 1/5; 8/9] END max_depth=50, max_leaf_nodes=500;, score=0.260 total time=   7.8s\n",
      "[CV 2/5; 8/9] START max_depth=50, max_leaf_nodes=500............................\n",
      "[CV 2/5; 8/9] END max_depth=50, max_leaf_nodes=500;, score=0.192 total time=   7.8s\n",
      "[CV 3/5; 8/9] START max_depth=50, max_leaf_nodes=500............................\n",
      "[CV 3/5; 8/9] END max_depth=50, max_leaf_nodes=500;, score=0.164 total time=   8.2s\n",
      "[CV 4/5; 8/9] START max_depth=50, max_leaf_nodes=500............................\n",
      "[CV 4/5; 8/9] END max_depth=50, max_leaf_nodes=500;, score=0.168 total time=   7.9s\n",
      "[CV 5/5; 8/9] START max_depth=50, max_leaf_nodes=500............................\n",
      "[CV 5/5; 8/9] END max_depth=50, max_leaf_nodes=500;, score=0.215 total time=   7.8s\n",
      "[CV 1/5; 9/9] START max_depth=50, max_leaf_nodes=1000...........................\n",
      "[CV 1/5; 9/9] END max_depth=50, max_leaf_nodes=1000;, score=0.224 total time=   8.8s\n",
      "[CV 2/5; 9/9] START max_depth=50, max_leaf_nodes=1000...........................\n",
      "[CV 2/5; 9/9] END max_depth=50, max_leaf_nodes=1000;, score=0.132 total time=   9.5s\n",
      "[CV 3/5; 9/9] START max_depth=50, max_leaf_nodes=1000...........................\n",
      "[CV 3/5; 9/9] END max_depth=50, max_leaf_nodes=1000;, score=0.079 total time=   9.3s\n",
      "[CV 4/5; 9/9] START max_depth=50, max_leaf_nodes=1000...........................\n",
      "[CV 4/5; 9/9] END max_depth=50, max_leaf_nodes=1000;, score=0.109 total time=   9.4s\n",
      "[CV 5/5; 9/9] START max_depth=50, max_leaf_nodes=1000...........................\n",
      "[CV 5/5; 9/9] END max_depth=50, max_leaf_nodes=1000;, score=0.100 total time=   9.8s\n"
     ]
    },
    {
     "data": {
      "text/html": [
       "<style>#sk-container-id-1 {color: black;background-color: white;}#sk-container-id-1 pre{padding: 0;}#sk-container-id-1 div.sk-toggleable {background-color: white;}#sk-container-id-1 label.sk-toggleable__label {cursor: pointer;display: block;width: 100%;margin-bottom: 0;padding: 0.3em;box-sizing: border-box;text-align: center;}#sk-container-id-1 label.sk-toggleable__label-arrow:before {content: \"▸\";float: left;margin-right: 0.25em;color: #696969;}#sk-container-id-1 label.sk-toggleable__label-arrow:hover:before {color: black;}#sk-container-id-1 div.sk-estimator:hover label.sk-toggleable__label-arrow:before {color: black;}#sk-container-id-1 div.sk-toggleable__content {max-height: 0;max-width: 0;overflow: hidden;text-align: left;background-color: #f0f8ff;}#sk-container-id-1 div.sk-toggleable__content pre {margin: 0.2em;color: black;border-radius: 0.25em;background-color: #f0f8ff;}#sk-container-id-1 input.sk-toggleable__control:checked~div.sk-toggleable__content {max-height: 200px;max-width: 100%;overflow: auto;}#sk-container-id-1 input.sk-toggleable__control:checked~label.sk-toggleable__label-arrow:before {content: \"▾\";}#sk-container-id-1 div.sk-estimator input.sk-toggleable__control:checked~label.sk-toggleable__label {background-color: #d4ebff;}#sk-container-id-1 div.sk-label input.sk-toggleable__control:checked~label.sk-toggleable__label {background-color: #d4ebff;}#sk-container-id-1 input.sk-hidden--visually {border: 0;clip: rect(1px 1px 1px 1px);clip: rect(1px, 1px, 1px, 1px);height: 1px;margin: -1px;overflow: hidden;padding: 0;position: absolute;width: 1px;}#sk-container-id-1 div.sk-estimator {font-family: monospace;background-color: #f0f8ff;border: 1px dotted black;border-radius: 0.25em;box-sizing: border-box;margin-bottom: 0.5em;}#sk-container-id-1 div.sk-estimator:hover {background-color: #d4ebff;}#sk-container-id-1 div.sk-parallel-item::after {content: \"\";width: 100%;border-bottom: 1px solid gray;flex-grow: 1;}#sk-container-id-1 div.sk-label:hover label.sk-toggleable__label {background-color: #d4ebff;}#sk-container-id-1 div.sk-serial::before {content: \"\";position: absolute;border-left: 1px solid gray;box-sizing: border-box;top: 0;bottom: 0;left: 50%;z-index: 0;}#sk-container-id-1 div.sk-serial {display: flex;flex-direction: column;align-items: center;background-color: white;padding-right: 0.2em;padding-left: 0.2em;position: relative;}#sk-container-id-1 div.sk-item {position: relative;z-index: 1;}#sk-container-id-1 div.sk-parallel {display: flex;align-items: stretch;justify-content: center;background-color: white;position: relative;}#sk-container-id-1 div.sk-item::before, #sk-container-id-1 div.sk-parallel-item::before {content: \"\";position: absolute;border-left: 1px solid gray;box-sizing: border-box;top: 0;bottom: 0;left: 50%;z-index: -1;}#sk-container-id-1 div.sk-parallel-item {display: flex;flex-direction: column;z-index: 1;position: relative;background-color: white;}#sk-container-id-1 div.sk-parallel-item:first-child::after {align-self: flex-end;width: 50%;}#sk-container-id-1 div.sk-parallel-item:last-child::after {align-self: flex-start;width: 50%;}#sk-container-id-1 div.sk-parallel-item:only-child::after {width: 0;}#sk-container-id-1 div.sk-dashed-wrapped {border: 1px dashed gray;margin: 0 0.4em 0.5em 0.4em;box-sizing: border-box;padding-bottom: 0.4em;background-color: white;}#sk-container-id-1 div.sk-label label {font-family: monospace;font-weight: bold;display: inline-block;line-height: 1.2em;}#sk-container-id-1 div.sk-label-container {text-align: center;}#sk-container-id-1 div.sk-container {/* jupyter's `normalize.less` sets `[hidden] { display: none; }` but bootstrap.min.css set `[hidden] { display: none !important; }` so we also need the `!important` here to be able to override the default hidden behavior on the sphinx rendered scikit-learn.org. See: https://github.com/scikit-learn/scikit-learn/issues/21755 */display: inline-block !important;position: relative;}#sk-container-id-1 div.sk-text-repr-fallback {display: none;}</style><div id=\"sk-container-id-1\" class=\"sk-top-container\"><div class=\"sk-text-repr-fallback\"><pre>GridSearchCV(cv=5, estimator=DecisionTreeRegressor(),\n",
       "             param_grid={&#x27;max_depth&#x27;: [10, 30, 50],\n",
       "                         &#x27;max_leaf_nodes&#x27;: [250, 500, 1000]},\n",
       "             verbose=10)</pre><b>In a Jupyter environment, please rerun this cell to show the HTML representation or trust the notebook. <br />On GitHub, the HTML representation is unable to render, please try loading this page with nbviewer.org.</b></div><div class=\"sk-container\" hidden><div class=\"sk-item sk-dashed-wrapped\"><div class=\"sk-label-container\"><div class=\"sk-label sk-toggleable\"><input class=\"sk-toggleable__control sk-hidden--visually\" id=\"sk-estimator-id-1\" type=\"checkbox\" ><label for=\"sk-estimator-id-1\" class=\"sk-toggleable__label sk-toggleable__label-arrow\">GridSearchCV</label><div class=\"sk-toggleable__content\"><pre>GridSearchCV(cv=5, estimator=DecisionTreeRegressor(),\n",
       "             param_grid={&#x27;max_depth&#x27;: [10, 30, 50],\n",
       "                         &#x27;max_leaf_nodes&#x27;: [250, 500, 1000]},\n",
       "             verbose=10)</pre></div></div></div><div class=\"sk-parallel\"><div class=\"sk-parallel-item\"><div class=\"sk-item\"><div class=\"sk-label-container\"><div class=\"sk-label sk-toggleable\"><input class=\"sk-toggleable__control sk-hidden--visually\" id=\"sk-estimator-id-2\" type=\"checkbox\" ><label for=\"sk-estimator-id-2\" class=\"sk-toggleable__label sk-toggleable__label-arrow\">estimator: DecisionTreeRegressor</label><div class=\"sk-toggleable__content\"><pre>DecisionTreeRegressor()</pre></div></div></div><div class=\"sk-serial\"><div class=\"sk-item\"><div class=\"sk-estimator sk-toggleable\"><input class=\"sk-toggleable__control sk-hidden--visually\" id=\"sk-estimator-id-3\" type=\"checkbox\" ><label for=\"sk-estimator-id-3\" class=\"sk-toggleable__label sk-toggleable__label-arrow\">DecisionTreeRegressor</label><div class=\"sk-toggleable__content\"><pre>DecisionTreeRegressor()</pre></div></div></div></div></div></div></div></div></div></div>"
      ],
      "text/plain": [
       "GridSearchCV(cv=5, estimator=DecisionTreeRegressor(),\n",
       "             param_grid={'max_depth': [10, 30, 50],\n",
       "                         'max_leaf_nodes': [250, 500, 1000]},\n",
       "             verbose=10)"
      ]
     },
     "execution_count": 15,
     "metadata": {},
     "output_type": "execute_result"
    }
   ],
   "source": [
    "model.fit(X_train, y_train)"
   ]
  },
  {
   "cell_type": "markdown",
   "metadata": {},
   "source": [
    "- Evaluate your model"
   ]
  },
  {
   "cell_type": "code",
   "execution_count": 16,
   "metadata": {},
   "outputs": [
    {
     "data": {
      "text/plain": [
       "{'max_depth': 10, 'max_leaf_nodes': 250}"
      ]
     },
     "execution_count": 16,
     "metadata": {},
     "output_type": "execute_result"
    }
   ],
   "source": [
    "model.best_params_"
   ]
  },
  {
   "cell_type": "code",
   "execution_count": 20,
   "metadata": {},
   "outputs": [
    {
     "name": "stdout",
     "output_type": "stream",
     "text": [
      "MAE:  0.27\n",
      "RMSE:  0.40\n",
      "R2 score:   0.35\n"
     ]
    }
   ],
   "source": [
    "best_model = model.best_estimator_\n",
    "pred = best_model.predict(X_test)\n",
    "\n",
    "print(f\"MAE: {mean_absolute_error(pred, y_test): .2f}\")\n",
    "print(f\"RMSE: {mean_squared_error(pred, y_test, squared=False): .2f}\")\n",
    "print(f\"R2 score:  {best_model.score(X_test, y_test): .2f}\")"
   ]
  },
  {
   "cell_type": "code",
   "execution_count": null,
   "metadata": {},
   "outputs": [],
   "source": []
  }
 ],
 "metadata": {
  "kernelspec": {
   "display_name": "Python 3 (ipykernel)",
   "language": "python",
   "name": "python3"
  },
  "language_info": {
   "codemirror_mode": {
    "name": "ipython",
    "version": 3
   },
   "file_extension": ".py",
   "mimetype": "text/x-python",
   "name": "python",
   "nbconvert_exporter": "python",
   "pygments_lexer": "ipython3",
   "version": "3.11.7"
  }
 },
 "nbformat": 4,
 "nbformat_minor": 4
}

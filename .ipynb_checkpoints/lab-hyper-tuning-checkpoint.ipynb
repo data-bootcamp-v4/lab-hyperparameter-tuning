{
 "cells": [
  {
   "cell_type": "markdown",
   "metadata": {},
   "source": [
    "# LAB | Hyperparameter Tuning"
   ]
  },
  {
   "cell_type": "markdown",
   "metadata": {},
   "source": [
    "**Load the data**\n",
    "\n",
    "Finally step in order to maximize the performance on your Spaceship Titanic model.\n",
    "\n",
    "The data can be found here:\n",
    "\n",
    "https://raw.githubusercontent.com/data-bootcamp-v4/data/main/spaceship_titanic.csv\n",
    "\n",
    "Metadata\n",
    "\n",
    "https://github.com/data-bootcamp-v4/data/blob/main/spaceship_titanic.md"
   ]
  },
  {
   "cell_type": "markdown",
   "metadata": {},
   "source": [
    "So far we've been training and evaluating models with default values for hyperparameters.\n",
    "\n",
    "Today we will perform the same feature engineering as before, and then compare the best working models you got so far, but now fine tuning it's hyperparameters."
   ]
  },
  {
   "cell_type": "code",
   "execution_count": 2,
   "metadata": {
    "tags": []
   },
   "outputs": [],
   "source": [
    "#Libraries\n",
    "import pandas as pd\n",
    "import numpy as np\n",
    "from sklearn.model_selection import train_test_split"
   ]
  },
  {
   "cell_type": "code",
   "execution_count": 4,
   "metadata": {
    "tags": []
   },
   "outputs": [
    {
     "data": {
      "text/html": [
       "<div>\n",
       "<style scoped>\n",
       "    .dataframe tbody tr th:only-of-type {\n",
       "        vertical-align: middle;\n",
       "    }\n",
       "\n",
       "    .dataframe tbody tr th {\n",
       "        vertical-align: top;\n",
       "    }\n",
       "\n",
       "    .dataframe thead th {\n",
       "        text-align: right;\n",
       "    }\n",
       "</style>\n",
       "<table border=\"1\" class=\"dataframe\">\n",
       "  <thead>\n",
       "    <tr style=\"text-align: right;\">\n",
       "      <th></th>\n",
       "      <th>PassengerId</th>\n",
       "      <th>HomePlanet</th>\n",
       "      <th>CryoSleep</th>\n",
       "      <th>Cabin</th>\n",
       "      <th>Destination</th>\n",
       "      <th>Age</th>\n",
       "      <th>VIP</th>\n",
       "      <th>RoomService</th>\n",
       "      <th>FoodCourt</th>\n",
       "      <th>ShoppingMall</th>\n",
       "      <th>Spa</th>\n",
       "      <th>VRDeck</th>\n",
       "      <th>Name</th>\n",
       "      <th>Transported</th>\n",
       "    </tr>\n",
       "  </thead>\n",
       "  <tbody>\n",
       "    <tr>\n",
       "      <th>0</th>\n",
       "      <td>0001_01</td>\n",
       "      <td>Europa</td>\n",
       "      <td>False</td>\n",
       "      <td>B/0/P</td>\n",
       "      <td>TRAPPIST-1e</td>\n",
       "      <td>39.0</td>\n",
       "      <td>False</td>\n",
       "      <td>0.0</td>\n",
       "      <td>0.0</td>\n",
       "      <td>0.0</td>\n",
       "      <td>0.0</td>\n",
       "      <td>0.0</td>\n",
       "      <td>Maham Ofracculy</td>\n",
       "      <td>False</td>\n",
       "    </tr>\n",
       "    <tr>\n",
       "      <th>1</th>\n",
       "      <td>0002_01</td>\n",
       "      <td>Earth</td>\n",
       "      <td>False</td>\n",
       "      <td>F/0/S</td>\n",
       "      <td>TRAPPIST-1e</td>\n",
       "      <td>24.0</td>\n",
       "      <td>False</td>\n",
       "      <td>109.0</td>\n",
       "      <td>9.0</td>\n",
       "      <td>25.0</td>\n",
       "      <td>549.0</td>\n",
       "      <td>44.0</td>\n",
       "      <td>Juanna Vines</td>\n",
       "      <td>True</td>\n",
       "    </tr>\n",
       "    <tr>\n",
       "      <th>2</th>\n",
       "      <td>0003_01</td>\n",
       "      <td>Europa</td>\n",
       "      <td>False</td>\n",
       "      <td>A/0/S</td>\n",
       "      <td>TRAPPIST-1e</td>\n",
       "      <td>58.0</td>\n",
       "      <td>True</td>\n",
       "      <td>43.0</td>\n",
       "      <td>3576.0</td>\n",
       "      <td>0.0</td>\n",
       "      <td>6715.0</td>\n",
       "      <td>49.0</td>\n",
       "      <td>Altark Susent</td>\n",
       "      <td>False</td>\n",
       "    </tr>\n",
       "    <tr>\n",
       "      <th>3</th>\n",
       "      <td>0003_02</td>\n",
       "      <td>Europa</td>\n",
       "      <td>False</td>\n",
       "      <td>A/0/S</td>\n",
       "      <td>TRAPPIST-1e</td>\n",
       "      <td>33.0</td>\n",
       "      <td>False</td>\n",
       "      <td>0.0</td>\n",
       "      <td>1283.0</td>\n",
       "      <td>371.0</td>\n",
       "      <td>3329.0</td>\n",
       "      <td>193.0</td>\n",
       "      <td>Solam Susent</td>\n",
       "      <td>False</td>\n",
       "    </tr>\n",
       "    <tr>\n",
       "      <th>4</th>\n",
       "      <td>0004_01</td>\n",
       "      <td>Earth</td>\n",
       "      <td>False</td>\n",
       "      <td>F/1/S</td>\n",
       "      <td>TRAPPIST-1e</td>\n",
       "      <td>16.0</td>\n",
       "      <td>False</td>\n",
       "      <td>303.0</td>\n",
       "      <td>70.0</td>\n",
       "      <td>151.0</td>\n",
       "      <td>565.0</td>\n",
       "      <td>2.0</td>\n",
       "      <td>Willy Santantines</td>\n",
       "      <td>True</td>\n",
       "    </tr>\n",
       "  </tbody>\n",
       "</table>\n",
       "</div>"
      ],
      "text/plain": [
       "  PassengerId HomePlanet CryoSleep  Cabin  Destination   Age    VIP  \\\n",
       "0     0001_01     Europa     False  B/0/P  TRAPPIST-1e  39.0  False   \n",
       "1     0002_01      Earth     False  F/0/S  TRAPPIST-1e  24.0  False   \n",
       "2     0003_01     Europa     False  A/0/S  TRAPPIST-1e  58.0   True   \n",
       "3     0003_02     Europa     False  A/0/S  TRAPPIST-1e  33.0  False   \n",
       "4     0004_01      Earth     False  F/1/S  TRAPPIST-1e  16.0  False   \n",
       "\n",
       "   RoomService  FoodCourt  ShoppingMall     Spa  VRDeck               Name  \\\n",
       "0          0.0        0.0           0.0     0.0     0.0    Maham Ofracculy   \n",
       "1        109.0        9.0          25.0   549.0    44.0       Juanna Vines   \n",
       "2         43.0     3576.0           0.0  6715.0    49.0      Altark Susent   \n",
       "3          0.0     1283.0         371.0  3329.0   193.0       Solam Susent   \n",
       "4        303.0       70.0         151.0   565.0     2.0  Willy Santantines   \n",
       "\n",
       "   Transported  \n",
       "0        False  \n",
       "1         True  \n",
       "2        False  \n",
       "3        False  \n",
       "4         True  "
      ]
     },
     "execution_count": 4,
     "metadata": {},
     "output_type": "execute_result"
    }
   ],
   "source": [
    "spaceship = pd.read_csv(\"https://raw.githubusercontent.com/data-bootcamp-v4/data/main/spaceship_titanic.csv\")\n",
    "spaceship.head()"
   ]
  },
  {
   "cell_type": "markdown",
   "metadata": {},
   "source": [
    "Now perform the same as before:\n",
    "- Feature Scaling\n",
    "- Feature Selection\n"
   ]
  },
  {
   "cell_type": "code",
   "execution_count": 26,
   "metadata": {
    "tags": []
   },
   "outputs": [
    {
     "name": "stderr",
     "output_type": "stream",
     "text": [
      "/opt/anaconda3/lib/python3.11/site-packages/sklearn/preprocessing/_encoders.py:868: FutureWarning: `sparse` was renamed to `sparse_output` in version 1.2 and will be removed in 1.4. `sparse_output` is ignored unless you leave `sparse` to its default value.\n",
      "  warnings.warn(\n"
     ]
    }
   ],
   "source": [
    "from sklearn.datasets import fetch_openml\n",
    "import pandas as pd\n",
    "import numpy as np\n",
    "\n",
    "import matplotlib.pyplot as plt\n",
    "import seaborn as sns\n",
    "\n",
    "from sklearn.model_selection import train_test_split\n",
    "from sklearn.neighbors import KNeighborsClassifier\n",
    "from sklearn.preprocessing import OneHotEncoder\n",
    "from sklearn.preprocessing import MinMaxScaler, StandardScaler\n",
    "from sklearn.metrics import mean_absolute_error, mean_squared_error, r2_score, accuracy_score\n",
    "\n",
    "spaceship = spaceship.dropna()\n",
    "\n",
    "X = spaceship.drop(columns=['PassengerId', 'Name', 'Cabin', 'Transported'])\n",
    "y = spaceship['Transported']\n",
    "\n",
    "# One-hot encode categorical variables\n",
    "ohe = OneHotEncoder(sparse=False)\n",
    "X_cat_trans = ohe.fit_transform(X[['HomePlanet', 'CryoSleep', 'Destination', 'VIP']])\n",
    "X_cat_trans_df = pd.DataFrame(X_cat_trans, columns=ohe.get_feature_names_out(), index=X.index)\n",
    "\n",
    "X = X.drop(columns=['HomePlanet', 'CryoSleep', 'Destination', 'VIP'])\n",
    "X = pd.concat([X, X_cat_trans_df], axis=1)\n",
    "\n",
    "\n",
    "from sklearn.preprocessing import MinMaxScaler\n",
    "\n",
    "# Feature scaling\n",
    "scaler = MinMaxScaler()\n",
    "X_scaled = scaler.fit_transform(X)\n",
    "X_scaled = pd.DataFrame(X_scaled, columns=X.columns, index=X.index)"
   ]
  },
  {
   "cell_type": "markdown",
   "metadata": {},
   "source": [
    "- Now let's use the best model we got so far in order to see how it can improve when we fine tune it's hyperparameters."
   ]
  },
  {
   "cell_type": "code",
   "execution_count": 28,
   "metadata": {
    "tags": []
   },
   "outputs": [
    {
     "name": "stdout",
     "output_type": "stream",
     "text": [
      "K-Nearest Neighbors Regression\n",
      "MAE: 0.29\n",
      "RMSE: 0.41\n",
      "R2 score: 0.32\n",
      "Accuracy: 0.75\n",
      "\n",
      "\n"
     ]
    }
   ],
   "source": [
    "from sklearn.model_selection import train_test_split\n",
    "\n",
    "X_train, X_test, y_train, y_test = train_test_split(X_scaled, y, test_size=0.2, random_state=0)\n",
    "\n",
    "# K-Nearest Neighbors Regression\n",
    "from sklearn.neighbors import KNeighborsRegressor\n",
    "from sklearn.metrics import mean_absolute_error, mean_squared_error, r2_score, accuracy_score\n",
    "\n",
    "# Train the model\n",
    "knn_reg = KNeighborsRegressor(n_neighbors=5)\n",
    "knn_reg.fit(X_train, y_train)\n",
    "\n",
    "# Predict on the test set\n",
    "y_pred_knn = knn_reg.predict(X_test)\n",
    "y_pred_knn_binary = (y_pred_knn >= 0.5)\n",
    "\n",
    "# Calculate metrics\n",
    "mae_knn = mean_absolute_error(y_test, y_pred_knn)\n",
    "rmse_knn = mean_squared_error(y_test, y_pred_knn, squared=False)\n",
    "r2_knn = r2_score(y_test, y_pred_knn)\n",
    "accuracy_knn = accuracy_score(y_test, y_pred_knn_binary)\n",
    "\n",
    "\n",
    "print(f\"K-Nearest Neighbors Regression\")\n",
    "print(f\"MAE: {mae_knn:.2f}\")\n",
    "print(f\"RMSE: {rmse_knn:.2f}\")\n",
    "print(f\"R2 score: {r2_knn:.2f}\")\n",
    "print(f\"Accuracy: {accuracy_knn:.2f}\")\n",
    "print(\"\\n\")"
   ]
  },
  {
   "cell_type": "code",
   "execution_count": 30,
   "metadata": {
    "tags": []
   },
   "outputs": [],
   "source": [
    "# Random Forest Regressor\n",
    "from sklearn.ensemble import RandomForestRegressor\n",
    "\n",
    "# Train the model\n",
    "random_forest = RandomForestRegressor(n_estimators=100, random_state=0)\n",
    "random_forest.fit(X_train, y_train)\n",
    "\n",
    "# Predict on the test set\n",
    "y_pred_rf = random_forest.predict(X_test)\n",
    "y_pred_rf_binary = (y_pred_rf >= 0.5)\n",
    "\n",
    "# Calculate metrics\n",
    "mae_rf = mean_absolute_error(y_test, y_pred_rf)\n",
    "rmse_rf = mean_squared_error(y_test, y_pred_rf, squared=False)\n",
    "r2_rf = r2_score(y_test, y_pred_rf)\n",
    "accuracy_rf = accuracy_score(y_test, y_pred_rf_binary)\n",
    "\n"
   ]
  },
  {
   "cell_type": "markdown",
   "metadata": {},
   "source": [
    "- Evaluate your model"
   ]
  },
  {
   "cell_type": "code",
   "execution_count": 32,
   "metadata": {
    "tags": []
   },
   "outputs": [
    {
     "name": "stdout",
     "output_type": "stream",
     "text": [
      "Random Forest Regressor\n",
      "MAE: 0.28\n",
      "RMSE: 0.39\n",
      "R2 score: 0.39\n",
      "Accuracy: 0.79\n",
      "\n",
      "\n"
     ]
    }
   ],
   "source": [
    "print(f\"Random Forest Regressor\")\n",
    "print(f\"MAE: {mae_rf:.2f}\")\n",
    "print(f\"RMSE: {rmse_rf:.2f}\")\n",
    "print(f\"R2 score: {r2_rf:.2f}\")\n",
    "print(f\"Accuracy: {accuracy_rf:.2f}\")\n",
    "print(\"\\n\")"
   ]
  },
  {
   "cell_type": "markdown",
   "metadata": {},
   "source": [
    "**Grid/Random Search**"
   ]
  },
  {
   "cell_type": "markdown",
   "metadata": {},
   "source": [
    "For this lab we will use Grid Search."
   ]
  },
  {
   "cell_type": "markdown",
   "metadata": {},
   "source": [
    "- Define hyperparameters to fine tune."
   ]
  },
  {
   "cell_type": "code",
   "execution_count": 61,
   "metadata": {
    "tags": []
   },
   "outputs": [],
   "source": [
    "from sklearn.model_selection import GridSearchCV\n",
    "from sklearn.metrics import mean_absolute_error, mean_squared_error, r2_score, accuracy_score\n",
    "\n",
    "# Define the parameter grid\n",
    "param_grid = {\"max_leaf_nodes\": [250, 500, 1000],\n",
    "        \"max_depth\":[10,30,50]}\n"
   ]
  },
  {
   "cell_type": "markdown",
   "metadata": {},
   "source": [
    "- Run Grid Search"
   ]
  },
  {
   "cell_type": "code",
   "execution_count": 62,
   "metadata": {
    "tags": []
   },
   "outputs": [
    {
     "name": "stdout",
     "output_type": "stream",
     "text": [
      "Fitting 5 folds for each of 9 candidates, totalling 45 fits\n",
      "[CV 1/5; 1/9] START max_depth=10, max_leaf_nodes=250............................\n",
      "[CV 1/5; 1/9] END max_depth=10, max_leaf_nodes=250;, score=0.440 total time=   2.1s\n",
      "[CV 2/5; 1/9] START max_depth=10, max_leaf_nodes=250............................\n",
      "[CV 2/5; 1/9] END max_depth=10, max_leaf_nodes=250;, score=0.440 total time=   2.1s\n",
      "[CV 3/5; 1/9] START max_depth=10, max_leaf_nodes=250............................\n",
      "[CV 3/5; 1/9] END max_depth=10, max_leaf_nodes=250;, score=0.420 total time=   2.6s\n",
      "[CV 4/5; 1/9] START max_depth=10, max_leaf_nodes=250............................\n",
      "[CV 4/5; 1/9] END max_depth=10, max_leaf_nodes=250;, score=0.414 total time=   3.1s\n",
      "[CV 5/5; 1/9] START max_depth=10, max_leaf_nodes=250............................\n",
      "[CV 5/5; 1/9] END max_depth=10, max_leaf_nodes=250;, score=0.413 total time=   1.6s\n",
      "[CV 1/5; 2/9] START max_depth=10, max_leaf_nodes=500............................\n",
      "[CV 1/5; 2/9] END max_depth=10, max_leaf_nodes=500;, score=0.440 total time=   2.5s\n",
      "[CV 2/5; 2/9] START max_depth=10, max_leaf_nodes=500............................\n",
      "[CV 2/5; 2/9] END max_depth=10, max_leaf_nodes=500;, score=0.440 total time=   4.2s\n",
      "[CV 3/5; 2/9] START max_depth=10, max_leaf_nodes=500............................\n",
      "[CV 3/5; 2/9] END max_depth=10, max_leaf_nodes=500;, score=0.420 total time=   3.1s\n",
      "[CV 4/5; 2/9] START max_depth=10, max_leaf_nodes=500............................\n",
      "[CV 4/5; 2/9] END max_depth=10, max_leaf_nodes=500;, score=0.414 total time=   2.6s\n",
      "[CV 5/5; 2/9] START max_depth=10, max_leaf_nodes=500............................\n",
      "[CV 5/5; 2/9] END max_depth=10, max_leaf_nodes=500;, score=0.413 total time=   2.8s\n",
      "[CV 1/5; 3/9] START max_depth=10, max_leaf_nodes=1000...........................\n",
      "[CV 1/5; 3/9] END max_depth=10, max_leaf_nodes=1000;, score=0.440 total time=   2.7s\n",
      "[CV 2/5; 3/9] START max_depth=10, max_leaf_nodes=1000...........................\n",
      "[CV 2/5; 3/9] END max_depth=10, max_leaf_nodes=1000;, score=0.440 total time=   2.4s\n",
      "[CV 3/5; 3/9] START max_depth=10, max_leaf_nodes=1000...........................\n",
      "[CV 3/5; 3/9] END max_depth=10, max_leaf_nodes=1000;, score=0.420 total time=   1.8s\n",
      "[CV 4/5; 3/9] START max_depth=10, max_leaf_nodes=1000...........................\n",
      "[CV 4/5; 3/9] END max_depth=10, max_leaf_nodes=1000;, score=0.414 total time=   1.5s\n",
      "[CV 5/5; 3/9] START max_depth=10, max_leaf_nodes=1000...........................\n",
      "[CV 5/5; 3/9] END max_depth=10, max_leaf_nodes=1000;, score=0.413 total time=   2.1s\n",
      "[CV 1/5; 4/9] START max_depth=30, max_leaf_nodes=250............................\n",
      "[CV 1/5; 4/9] END max_depth=30, max_leaf_nodes=250;, score=0.440 total time=   2.4s\n",
      "[CV 2/5; 4/9] START max_depth=30, max_leaf_nodes=250............................\n",
      "[CV 2/5; 4/9] END max_depth=30, max_leaf_nodes=250;, score=0.437 total time=   2.1s\n",
      "[CV 3/5; 4/9] START max_depth=30, max_leaf_nodes=250............................\n",
      "[CV 3/5; 4/9] END max_depth=30, max_leaf_nodes=250;, score=0.426 total time=   1.7s\n",
      "[CV 4/5; 4/9] START max_depth=30, max_leaf_nodes=250............................\n",
      "[CV 4/5; 4/9] END max_depth=30, max_leaf_nodes=250;, score=0.416 total time=   1.2s\n",
      "[CV 5/5; 4/9] START max_depth=30, max_leaf_nodes=250............................\n",
      "[CV 5/5; 4/9] END max_depth=30, max_leaf_nodes=250;, score=0.411 total time=   1.4s\n",
      "[CV 1/5; 5/9] START max_depth=30, max_leaf_nodes=500............................\n",
      "[CV 1/5; 5/9] END max_depth=30, max_leaf_nodes=500;, score=0.397 total time=   1.6s\n",
      "[CV 2/5; 5/9] START max_depth=30, max_leaf_nodes=500............................\n",
      "[CV 2/5; 5/9] END max_depth=30, max_leaf_nodes=500;, score=0.401 total time=   1.2s\n",
      "[CV 3/5; 5/9] START max_depth=30, max_leaf_nodes=500............................\n",
      "[CV 3/5; 5/9] END max_depth=30, max_leaf_nodes=500;, score=0.404 total time=   1.1s\n",
      "[CV 4/5; 5/9] START max_depth=30, max_leaf_nodes=500............................\n",
      "[CV 4/5; 5/9] END max_depth=30, max_leaf_nodes=500;, score=0.373 total time=   1.1s\n",
      "[CV 5/5; 5/9] START max_depth=30, max_leaf_nodes=500............................\n",
      "[CV 5/5; 5/9] END max_depth=30, max_leaf_nodes=500;, score=0.369 total time=   1.1s\n",
      "[CV 1/5; 6/9] START max_depth=30, max_leaf_nodes=1000...........................\n",
      "[CV 1/5; 6/9] END max_depth=30, max_leaf_nodes=1000;, score=0.396 total time=   1.2s\n",
      "[CV 2/5; 6/9] START max_depth=30, max_leaf_nodes=1000...........................\n",
      "[CV 2/5; 6/9] END max_depth=30, max_leaf_nodes=1000;, score=0.401 total time=   1.2s\n",
      "[CV 3/5; 6/9] START max_depth=30, max_leaf_nodes=1000...........................\n",
      "[CV 3/5; 6/9] END max_depth=30, max_leaf_nodes=1000;, score=0.404 total time=   1.3s\n",
      "[CV 4/5; 6/9] START max_depth=30, max_leaf_nodes=1000...........................\n",
      "[CV 4/5; 6/9] END max_depth=30, max_leaf_nodes=1000;, score=0.373 total time=   1.3s\n",
      "[CV 5/5; 6/9] START max_depth=30, max_leaf_nodes=1000...........................\n",
      "[CV 5/5; 6/9] END max_depth=30, max_leaf_nodes=1000;, score=0.369 total time=   1.2s\n",
      "[CV 1/5; 7/9] START max_depth=50, max_leaf_nodes=250............................\n",
      "[CV 1/5; 7/9] END max_depth=50, max_leaf_nodes=250;, score=0.440 total time=   1.1s\n",
      "[CV 2/5; 7/9] START max_depth=50, max_leaf_nodes=250............................\n",
      "[CV 2/5; 7/9] END max_depth=50, max_leaf_nodes=250;, score=0.437 total time=   1.0s\n",
      "[CV 3/5; 7/9] START max_depth=50, max_leaf_nodes=250............................\n",
      "[CV 3/5; 7/9] END max_depth=50, max_leaf_nodes=250;, score=0.426 total time=   1.1s\n",
      "[CV 4/5; 7/9] START max_depth=50, max_leaf_nodes=250............................\n",
      "[CV 4/5; 7/9] END max_depth=50, max_leaf_nodes=250;, score=0.417 total time=   1.6s\n",
      "[CV 5/5; 7/9] START max_depth=50, max_leaf_nodes=250............................\n",
      "[CV 5/5; 7/9] END max_depth=50, max_leaf_nodes=250;, score=0.411 total time=   1.1s\n",
      "[CV 1/5; 8/9] START max_depth=50, max_leaf_nodes=500............................\n",
      "[CV 1/5; 8/9] END max_depth=50, max_leaf_nodes=500;, score=0.397 total time=   1.2s\n",
      "[CV 2/5; 8/9] START max_depth=50, max_leaf_nodes=500............................\n",
      "[CV 2/5; 8/9] END max_depth=50, max_leaf_nodes=500;, score=0.401 total time=   1.2s\n",
      "[CV 3/5; 8/9] START max_depth=50, max_leaf_nodes=500............................\n",
      "[CV 3/5; 8/9] END max_depth=50, max_leaf_nodes=500;, score=0.404 total time=   1.2s\n",
      "[CV 4/5; 8/9] START max_depth=50, max_leaf_nodes=500............................\n",
      "[CV 4/5; 8/9] END max_depth=50, max_leaf_nodes=500;, score=0.373 total time=   1.1s\n",
      "[CV 5/5; 8/9] START max_depth=50, max_leaf_nodes=500............................\n",
      "[CV 5/5; 8/9] END max_depth=50, max_leaf_nodes=500;, score=0.369 total time=   1.1s\n",
      "[CV 1/5; 9/9] START max_depth=50, max_leaf_nodes=1000...........................\n",
      "[CV 1/5; 9/9] END max_depth=50, max_leaf_nodes=1000;, score=0.396 total time=   1.3s\n",
      "[CV 2/5; 9/9] START max_depth=50, max_leaf_nodes=1000...........................\n",
      "[CV 2/5; 9/9] END max_depth=50, max_leaf_nodes=1000;, score=0.401 total time=   1.1s\n",
      "[CV 3/5; 9/9] START max_depth=50, max_leaf_nodes=1000...........................\n",
      "[CV 3/5; 9/9] END max_depth=50, max_leaf_nodes=1000;, score=0.404 total time=   1.3s\n",
      "[CV 4/5; 9/9] START max_depth=50, max_leaf_nodes=1000...........................\n",
      "[CV 4/5; 9/9] END max_depth=50, max_leaf_nodes=1000;, score=0.373 total time=   1.2s\n",
      "[CV 5/5; 9/9] START max_depth=50, max_leaf_nodes=1000...........................\n",
      "[CV 5/5; 9/9] END max_depth=50, max_leaf_nodes=1000;, score=0.369 total time=   1.2s\n",
      "Best parameters found:  {'max_depth': 50, 'max_leaf_nodes': 250}\n"
     ]
    }
   ],
   "source": [
    "# Instantiate the Grid Search\n",
    "grid_search = GridSearchCV(estimator=rf, param_grid=param_grid, cv=5, verbose=10)\n",
    "\n",
    "# Fit the Grid Search to the data\n",
    "grid_search.fit(X_train, y_train)\n",
    "\n",
    "# Get the best parameters\n",
    "best_params = grid_search.best_params_\n",
    "print(\"Best parameters found: \", best_params)\n",
    "\n",
    "# Use the best parameters to fit the model\n",
    "best_rf = grid_search.best_estimator_\n",
    "\n",
    "# Predict test set\n",
    "y_pred = best_rf.predict(X_test)\n",
    "y_pred_binary = (y_pred >= 0.5)\n",
    "\n"
   ]
  },
  {
   "cell_type": "markdown",
   "metadata": {},
   "source": [
    "- Evaluate your model"
   ]
  },
  {
   "cell_type": "code",
   "execution_count": 63,
   "metadata": {
    "tags": []
   },
   "outputs": [
    {
     "name": "stdout",
     "output_type": "stream",
     "text": [
      "Random Forest Regressor with Grid Search\n",
      "MAE: 0.28\n",
      "RMSE: 0.38\n",
      "R2 score: 0.42\n",
      "Accuracy: 0.78\n"
     ]
    }
   ],
   "source": [
    "# Calculate metrics\n",
    "mae = mean_absolute_error(y_test, y_pred)\n",
    "rmse = mean_squared_error(y_test, y_pred, squared=False)\n",
    "r2 = r2_score(y_test, y_pred)\n",
    "accuracy = accuracy_score(y_test, y_pred_binary)\n",
    "\n",
    "print(f\"Random Forest Regressor with Grid Search\")\n",
    "print(f\"MAE: {mae:.2f}\")\n",
    "print(f\"RMSE: {rmse:.2f}\")\n",
    "print(f\"R2 score: {r2:.2f}\")\n",
    "print(f\"Accuracy: {accuracy:.2f}\")\n"
   ]
  },
  {
   "cell_type": "code",
   "execution_count": null,
   "metadata": {},
   "outputs": [],
   "source": [
    "# results hasnt really improved"
   ]
  }
 ],
 "metadata": {
  "kernelspec": {
   "display_name": "Python 3 (ipykernel)",
   "language": "python",
   "name": "python3"
  },
  "language_info": {
   "codemirror_mode": {
    "name": "ipython",
    "version": 3
   },
   "file_extension": ".py",
   "mimetype": "text/x-python",
   "name": "python",
   "nbconvert_exporter": "python",
   "pygments_lexer": "ipython3",
   "version": "3.11.7"
  }
 },
 "nbformat": 4,
 "nbformat_minor": 4
}

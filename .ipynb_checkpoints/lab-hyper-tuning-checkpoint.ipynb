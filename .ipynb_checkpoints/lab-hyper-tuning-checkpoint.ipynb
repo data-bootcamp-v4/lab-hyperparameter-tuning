{
 "cells": [
  {
   "cell_type": "markdown",
   "metadata": {},
   "source": [
    "# LAB | Hyperparameter Tuning"
   ]
  },
  {
   "cell_type": "markdown",
   "metadata": {},
   "source": [
    "**Load the data**\n",
    "\n",
    "Finally step in order to maximize the performance on your Spaceship Titanic model.\n",
    "\n",
    "The data can be found here:\n",
    "\n",
    "https://raw.githubusercontent.com/data-bootcamp-v4/data/main/spaceship_titanic.csv\n",
    "\n",
    "Metadata\n",
    "\n",
    "https://github.com/data-bootcamp-v4/data/blob/main/spaceship_titanic.md"
   ]
  },
  {
   "cell_type": "markdown",
   "metadata": {},
   "source": [
    "So far we've been training and evaluating models with default values for hyperparameters.\n",
    "\n",
    "Today we will perform the same feature engineering as before, and then compare the best working models you got so far, but now fine tuning it's hyperparameters."
   ]
  },
  {
   "cell_type": "code",
   "execution_count": 62,
   "metadata": {},
   "outputs": [],
   "source": [
    "#Libraries\n",
    "import pandas as pd\n",
    "import numpy as np\n",
    "import time\n",
    "import scipy.stats as st\n",
    "\n",
    "from sklearn.model_selection import train_test_split\n",
    "from sklearn.preprocessing import OneHotEncoder\n",
    "from sklearn.neighbors import KNeighborsClassifier\n",
    "\n",
    "from sklearn.tree import DecisionTreeClassifier\n",
    "from sklearn.ensemble import BaggingClassifier, RandomForestClassifier, AdaBoostClassifier, GradientBoostingClassifier\n",
    "\n",
    "from sklearn.preprocessing import MinMaxScaler, StandardScaler\n",
    "from sklearn.metrics import r2_score, mean_absolute_error, mean_squared_error, root_mean_squared_error\n",
    "from sklearn.model_selection import GridSearchCV, RandomizedSearchCV"
   ]
  },
  {
   "cell_type": "code",
   "execution_count": 17,
   "metadata": {},
   "outputs": [
    {
     "data": {
      "text/html": [
       "<div>\n",
       "<style scoped>\n",
       "    .dataframe tbody tr th:only-of-type {\n",
       "        vertical-align: middle;\n",
       "    }\n",
       "\n",
       "    .dataframe tbody tr th {\n",
       "        vertical-align: top;\n",
       "    }\n",
       "\n",
       "    .dataframe thead th {\n",
       "        text-align: right;\n",
       "    }\n",
       "</style>\n",
       "<table border=\"1\" class=\"dataframe\">\n",
       "  <thead>\n",
       "    <tr style=\"text-align: right;\">\n",
       "      <th></th>\n",
       "      <th>PassengerId</th>\n",
       "      <th>HomePlanet</th>\n",
       "      <th>CryoSleep</th>\n",
       "      <th>Cabin</th>\n",
       "      <th>Destination</th>\n",
       "      <th>Age</th>\n",
       "      <th>VIP</th>\n",
       "      <th>RoomService</th>\n",
       "      <th>FoodCourt</th>\n",
       "      <th>ShoppingMall</th>\n",
       "      <th>Spa</th>\n",
       "      <th>VRDeck</th>\n",
       "      <th>Name</th>\n",
       "      <th>Transported</th>\n",
       "    </tr>\n",
       "  </thead>\n",
       "  <tbody>\n",
       "    <tr>\n",
       "      <th>0</th>\n",
       "      <td>0001_01</td>\n",
       "      <td>Europa</td>\n",
       "      <td>False</td>\n",
       "      <td>B/0/P</td>\n",
       "      <td>TRAPPIST-1e</td>\n",
       "      <td>39.0</td>\n",
       "      <td>False</td>\n",
       "      <td>0.0</td>\n",
       "      <td>0.0</td>\n",
       "      <td>0.0</td>\n",
       "      <td>0.0</td>\n",
       "      <td>0.0</td>\n",
       "      <td>Maham Ofracculy</td>\n",
       "      <td>False</td>\n",
       "    </tr>\n",
       "    <tr>\n",
       "      <th>1</th>\n",
       "      <td>0002_01</td>\n",
       "      <td>Earth</td>\n",
       "      <td>False</td>\n",
       "      <td>F/0/S</td>\n",
       "      <td>TRAPPIST-1e</td>\n",
       "      <td>24.0</td>\n",
       "      <td>False</td>\n",
       "      <td>109.0</td>\n",
       "      <td>9.0</td>\n",
       "      <td>25.0</td>\n",
       "      <td>549.0</td>\n",
       "      <td>44.0</td>\n",
       "      <td>Juanna Vines</td>\n",
       "      <td>True</td>\n",
       "    </tr>\n",
       "    <tr>\n",
       "      <th>2</th>\n",
       "      <td>0003_01</td>\n",
       "      <td>Europa</td>\n",
       "      <td>False</td>\n",
       "      <td>A/0/S</td>\n",
       "      <td>TRAPPIST-1e</td>\n",
       "      <td>58.0</td>\n",
       "      <td>True</td>\n",
       "      <td>43.0</td>\n",
       "      <td>3576.0</td>\n",
       "      <td>0.0</td>\n",
       "      <td>6715.0</td>\n",
       "      <td>49.0</td>\n",
       "      <td>Altark Susent</td>\n",
       "      <td>False</td>\n",
       "    </tr>\n",
       "    <tr>\n",
       "      <th>3</th>\n",
       "      <td>0003_02</td>\n",
       "      <td>Europa</td>\n",
       "      <td>False</td>\n",
       "      <td>A/0/S</td>\n",
       "      <td>TRAPPIST-1e</td>\n",
       "      <td>33.0</td>\n",
       "      <td>False</td>\n",
       "      <td>0.0</td>\n",
       "      <td>1283.0</td>\n",
       "      <td>371.0</td>\n",
       "      <td>3329.0</td>\n",
       "      <td>193.0</td>\n",
       "      <td>Solam Susent</td>\n",
       "      <td>False</td>\n",
       "    </tr>\n",
       "    <tr>\n",
       "      <th>4</th>\n",
       "      <td>0004_01</td>\n",
       "      <td>Earth</td>\n",
       "      <td>False</td>\n",
       "      <td>F/1/S</td>\n",
       "      <td>TRAPPIST-1e</td>\n",
       "      <td>16.0</td>\n",
       "      <td>False</td>\n",
       "      <td>303.0</td>\n",
       "      <td>70.0</td>\n",
       "      <td>151.0</td>\n",
       "      <td>565.0</td>\n",
       "      <td>2.0</td>\n",
       "      <td>Willy Santantines</td>\n",
       "      <td>True</td>\n",
       "    </tr>\n",
       "  </tbody>\n",
       "</table>\n",
       "</div>"
      ],
      "text/plain": [
       "  PassengerId HomePlanet CryoSleep  Cabin  Destination   Age    VIP  \\\n",
       "0     0001_01     Europa     False  B/0/P  TRAPPIST-1e  39.0  False   \n",
       "1     0002_01      Earth     False  F/0/S  TRAPPIST-1e  24.0  False   \n",
       "2     0003_01     Europa     False  A/0/S  TRAPPIST-1e  58.0   True   \n",
       "3     0003_02     Europa     False  A/0/S  TRAPPIST-1e  33.0  False   \n",
       "4     0004_01      Earth     False  F/1/S  TRAPPIST-1e  16.0  False   \n",
       "\n",
       "   RoomService  FoodCourt  ShoppingMall     Spa  VRDeck               Name  \\\n",
       "0          0.0        0.0           0.0     0.0     0.0    Maham Ofracculy   \n",
       "1        109.0        9.0          25.0   549.0    44.0       Juanna Vines   \n",
       "2         43.0     3576.0           0.0  6715.0    49.0      Altark Susent   \n",
       "3          0.0     1283.0         371.0  3329.0   193.0       Solam Susent   \n",
       "4        303.0       70.0         151.0   565.0     2.0  Willy Santantines   \n",
       "\n",
       "   Transported  \n",
       "0        False  \n",
       "1         True  \n",
       "2        False  \n",
       "3        False  \n",
       "4         True  "
      ]
     },
     "execution_count": 17,
     "metadata": {},
     "output_type": "execute_result"
    }
   ],
   "source": [
    "spaceship = pd.read_csv(\"https://raw.githubusercontent.com/data-bootcamp-v4/data/main/spaceship_titanic.csv\")\n",
    "spaceship.head()"
   ]
  },
  {
   "cell_type": "markdown",
   "metadata": {},
   "source": [
    "Now perform the same as before:\n",
    "- Feature Scaling\n",
    "- Feature Selection\n"
   ]
  },
  {
   "cell_type": "code",
   "execution_count": 20,
   "metadata": {},
   "outputs": [],
   "source": [
    "df = spaceship.dropna()\n",
    "df1 = df.copy()\n",
    "df1['Cabin'] = df['Cabin'].str[0]\n",
    "df1.drop(columns=['PassengerId', 'Name'], axis=1, inplace=True)\n",
    "bool_cols = ['CryoSleep', 'VIP', 'Transported']\n",
    "\n",
    "for col in bool_cols:\n",
    "    df1[col] = (df1[col] == True).astype(int)\n",
    "\n",
    "df_cat = df1[['HomePlanet', 'Destination', 'Cabin']]\n",
    "\n",
    "ohe = OneHotEncoder(sparse_output=False)\n",
    "\n",
    "ohe.fit(df_cat)\n",
    "cat_np = ohe.transform(df_cat)\n",
    "cat_df = pd.DataFrame(cat_np, columns=ohe.get_feature_names_out(), index=df_cat.index)\n",
    "df_num = df1.drop(columns=df_cat.columns)\n",
    "df3 = pd.concat([df_num, cat_df], axis=1)"
   ]
  },
  {
   "cell_type": "code",
   "execution_count": 22,
   "metadata": {},
   "outputs": [
    {
     "name": "stdout",
     "output_type": "stream",
     "text": [
      "MAE:  0.239\n",
      "RMSE:  0.489\n",
      "Test Score:  76.10%\n",
      "Train Score:  82.72%\n"
     ]
    }
   ],
   "source": [
    "features = df3.drop(columns=\"Transported\")\n",
    "target = df3['Transported']\n",
    "\n",
    "x_train, x_test, y_train, y_test = train_test_split(features, target, test_size=0.20, random_state=0)\n",
    "\n",
    "normalizer = MinMaxScaler()\n",
    "\n",
    "normalizer.fit(x_train)\n",
    "\n",
    "x_train_norm = normalizer.transform(x_train)\n",
    "x_test_norm = normalizer.transform(x_test)\n",
    "\n",
    "x_train_norm = pd.DataFrame(x_train_norm, columns=x_train.columns , index=x_train.index)\n",
    "x_test_norm = pd.DataFrame(x_test_norm, columns=x_test.columns , index=x_test.index)\n",
    "\n",
    "knn = KNeighborsClassifier(n_neighbors=5)\n",
    "knn.fit(x_train_norm, y_train)\n",
    "\n",
    "y_pred_knn = knn.predict(x_test_norm)\n",
    "\n",
    "print(f\"MAE: {mean_absolute_error(y_pred_knn, y_test): .3f}\")\n",
    "print(f\"RMSE: {root_mean_squared_error(y_pred_knn, y_test): .3f}\")\n",
    "print(f\"Test Score: {knn.score(x_test_norm, y_test)*100: .2f}%\")\n",
    "print(f\"Train Score: {knn.score(x_train_norm, y_train)*100: .2f}%\")"
   ]
  },
  {
   "cell_type": "markdown",
   "metadata": {},
   "source": [
    "- Now let's use the best model we got so far in order to see how it can improve when we fine tune it's hyperparameters."
   ]
  },
  {
   "cell_type": "code",
   "execution_count": 24,
   "metadata": {},
   "outputs": [
    {
     "name": "stdout",
     "output_type": "stream",
     "text": [
      "MAE:  0.213\n",
      "RMSE:  0.462\n",
      "Test Score:  0.787\n",
      "Train Score:  0.940\n"
     ]
    }
   ],
   "source": [
    "forest = RandomForestClassifier(n_estimators=100,\n",
    "                             max_depth=20)\n",
    "\n",
    "forest.fit(x_train_norm, y_train)\n",
    "\n",
    "y_pred_test_rf = forest.predict(x_test_norm)\n",
    "\n",
    "print(f\"MAE: {mean_absolute_error(y_pred_test_rf, y_test): .3f}\")\n",
    "print(f\"RMSE: {root_mean_squared_error(y_pred_test_rf, y_test): .3f}\")\n",
    "print(f\"Test Score: {forest.score(x_test_norm, y_test): .3f}\")\n",
    "print(f\"Train Score: {forest.score(x_train_norm, y_train): .3f}\")"
   ]
  },
  {
   "cell_type": "markdown",
   "metadata": {},
   "source": [
    "- Evaluate your model"
   ]
  },
  {
   "cell_type": "code",
   "execution_count": 26,
   "metadata": {},
   "outputs": [],
   "source": [
    "# The random forest model was stronger than the KNN model, with improvements in all score metrics"
   ]
  },
  {
   "cell_type": "markdown",
   "metadata": {},
   "source": [
    "**Grid/Random Search**"
   ]
  },
  {
   "cell_type": "markdown",
   "metadata": {},
   "source": [
    "For this lab we will use Grid Search."
   ]
  },
  {
   "cell_type": "markdown",
   "metadata": {},
   "source": [
    "- Define hyperparameters to fine tune."
   ]
  },
  {
   "cell_type": "code",
   "execution_count": 56,
   "metadata": {},
   "outputs": [],
   "source": [
    "parameter_grid = {\"max_depth\": [10, 25],\n",
    "                  \"n_estimators\": [100, 150, 200],\n",
    "                  \"max_features\": [\"sqrt\", \"log2\"]}\n",
    "\n",
    "# We create an instance or our machine learning model\n",
    "dt = RandomForestClassifier(random_state=0)\n",
    "\n",
    "# We need to set this two variables to be able to compute a confidence interval\n",
    "confidence_level = 0.95\n",
    "folds = 5"
   ]
  },
  {
   "cell_type": "markdown",
   "metadata": {},
   "source": [
    "- Run Grid Search"
   ]
  },
  {
   "cell_type": "code",
   "execution_count": 59,
   "metadata": {},
   "outputs": [
    {
     "name": "stdout",
     "output_type": "stream",
     "text": [
      "Fitting 5 folds for each of 12 candidates, totalling 60 fits\n",
      "[CV 1/5; 1/12] START max_depth=10, max_features=sqrt, n_estimators=100..........\n",
      "[CV 1/5; 1/12] END max_depth=10, max_features=sqrt, n_estimators=100;, score=0.808 total time=   1.4s\n",
      "[CV 2/5; 1/12] START max_depth=10, max_features=sqrt, n_estimators=100..........\n",
      "[CV 2/5; 1/12] END max_depth=10, max_features=sqrt, n_estimators=100;, score=0.825 total time=   1.3s\n",
      "[CV 3/5; 1/12] START max_depth=10, max_features=sqrt, n_estimators=100..........\n",
      "[CV 3/5; 1/12] END max_depth=10, max_features=sqrt, n_estimators=100;, score=0.787 total time=   1.4s\n",
      "[CV 4/5; 1/12] START max_depth=10, max_features=sqrt, n_estimators=100..........\n",
      "[CV 4/5; 1/12] END max_depth=10, max_features=sqrt, n_estimators=100;, score=0.790 total time=   1.4s\n",
      "[CV 5/5; 1/12] START max_depth=10, max_features=sqrt, n_estimators=100..........\n",
      "[CV 5/5; 1/12] END max_depth=10, max_features=sqrt, n_estimators=100;, score=0.801 total time=   1.3s\n",
      "[CV 1/5; 2/12] START max_depth=10, max_features=sqrt, n_estimators=150..........\n",
      "[CV 1/5; 2/12] END max_depth=10, max_features=sqrt, n_estimators=150;, score=0.811 total time=   2.4s\n",
      "[CV 2/5; 2/12] START max_depth=10, max_features=sqrt, n_estimators=150..........\n",
      "[CV 2/5; 2/12] END max_depth=10, max_features=sqrt, n_estimators=150;, score=0.820 total time=   2.2s\n",
      "[CV 3/5; 2/12] START max_depth=10, max_features=sqrt, n_estimators=150..........\n",
      "[CV 3/5; 2/12] END max_depth=10, max_features=sqrt, n_estimators=150;, score=0.788 total time=   2.0s\n",
      "[CV 4/5; 2/12] START max_depth=10, max_features=sqrt, n_estimators=150..........\n",
      "[CV 4/5; 2/12] END max_depth=10, max_features=sqrt, n_estimators=150;, score=0.795 total time=   2.2s\n",
      "[CV 5/5; 2/12] START max_depth=10, max_features=sqrt, n_estimators=150..........\n",
      "[CV 5/5; 2/12] END max_depth=10, max_features=sqrt, n_estimators=150;, score=0.797 total time=   1.8s\n",
      "[CV 1/5; 3/12] START max_depth=10, max_features=sqrt, n_estimators=200..........\n",
      "[CV 1/5; 3/12] END max_depth=10, max_features=sqrt, n_estimators=200;, score=0.812 total time=   3.0s\n",
      "[CV 2/5; 3/12] START max_depth=10, max_features=sqrt, n_estimators=200..........\n",
      "[CV 2/5; 3/12] END max_depth=10, max_features=sqrt, n_estimators=200;, score=0.819 total time=   2.6s\n",
      "[CV 3/5; 3/12] START max_depth=10, max_features=sqrt, n_estimators=200..........\n",
      "[CV 3/5; 3/12] END max_depth=10, max_features=sqrt, n_estimators=200;, score=0.793 total time=   2.8s\n",
      "[CV 4/5; 3/12] START max_depth=10, max_features=sqrt, n_estimators=200..........\n",
      "[CV 4/5; 3/12] END max_depth=10, max_features=sqrt, n_estimators=200;, score=0.795 total time=   2.6s\n",
      "[CV 5/5; 3/12] START max_depth=10, max_features=sqrt, n_estimators=200..........\n",
      "[CV 5/5; 3/12] END max_depth=10, max_features=sqrt, n_estimators=200;, score=0.800 total time=   2.6s\n",
      "[CV 1/5; 4/12] START max_depth=10, max_features=log2, n_estimators=100..........\n",
      "[CV 1/5; 4/12] END max_depth=10, max_features=log2, n_estimators=100;, score=0.808 total time=   1.3s\n",
      "[CV 2/5; 4/12] START max_depth=10, max_features=log2, n_estimators=100..........\n",
      "[CV 2/5; 4/12] END max_depth=10, max_features=log2, n_estimators=100;, score=0.825 total time=   1.3s\n",
      "[CV 3/5; 4/12] START max_depth=10, max_features=log2, n_estimators=100..........\n",
      "[CV 3/5; 4/12] END max_depth=10, max_features=log2, n_estimators=100;, score=0.787 total time=   1.4s\n",
      "[CV 4/5; 4/12] START max_depth=10, max_features=log2, n_estimators=100..........\n",
      "[CV 4/5; 4/12] END max_depth=10, max_features=log2, n_estimators=100;, score=0.790 total time=   1.6s\n",
      "[CV 5/5; 4/12] START max_depth=10, max_features=log2, n_estimators=100..........\n",
      "[CV 5/5; 4/12] END max_depth=10, max_features=log2, n_estimators=100;, score=0.801 total time=   1.7s\n",
      "[CV 1/5; 5/12] START max_depth=10, max_features=log2, n_estimators=150..........\n",
      "[CV 1/5; 5/12] END max_depth=10, max_features=log2, n_estimators=150;, score=0.811 total time=   1.9s\n",
      "[CV 2/5; 5/12] START max_depth=10, max_features=log2, n_estimators=150..........\n",
      "[CV 2/5; 5/12] END max_depth=10, max_features=log2, n_estimators=150;, score=0.820 total time=   2.1s\n",
      "[CV 3/5; 5/12] START max_depth=10, max_features=log2, n_estimators=150..........\n",
      "[CV 3/5; 5/12] END max_depth=10, max_features=log2, n_estimators=150;, score=0.788 total time=   2.0s\n",
      "[CV 4/5; 5/12] START max_depth=10, max_features=log2, n_estimators=150..........\n",
      "[CV 4/5; 5/12] END max_depth=10, max_features=log2, n_estimators=150;, score=0.795 total time=   2.0s\n",
      "[CV 5/5; 5/12] START max_depth=10, max_features=log2, n_estimators=150..........\n",
      "[CV 5/5; 5/12] END max_depth=10, max_features=log2, n_estimators=150;, score=0.797 total time=   2.2s\n",
      "[CV 1/5; 6/12] START max_depth=10, max_features=log2, n_estimators=200..........\n",
      "[CV 1/5; 6/12] END max_depth=10, max_features=log2, n_estimators=200;, score=0.812 total time=   2.8s\n",
      "[CV 2/5; 6/12] START max_depth=10, max_features=log2, n_estimators=200..........\n",
      "[CV 2/5; 6/12] END max_depth=10, max_features=log2, n_estimators=200;, score=0.819 total time=   3.1s\n",
      "[CV 3/5; 6/12] START max_depth=10, max_features=log2, n_estimators=200..........\n",
      "[CV 3/5; 6/12] END max_depth=10, max_features=log2, n_estimators=200;, score=0.793 total time=   2.8s\n",
      "[CV 4/5; 6/12] START max_depth=10, max_features=log2, n_estimators=200..........\n",
      "[CV 4/5; 6/12] END max_depth=10, max_features=log2, n_estimators=200;, score=0.795 total time=   2.9s\n",
      "[CV 5/5; 6/12] START max_depth=10, max_features=log2, n_estimators=200..........\n",
      "[CV 5/5; 6/12] END max_depth=10, max_features=log2, n_estimators=200;, score=0.800 total time=   3.1s\n",
      "[CV 1/5; 7/12] START max_depth=25, max_features=sqrt, n_estimators=100..........\n",
      "[CV 1/5; 7/12] END max_depth=25, max_features=sqrt, n_estimators=100;, score=0.788 total time=   1.9s\n",
      "[CV 2/5; 7/12] START max_depth=25, max_features=sqrt, n_estimators=100..........\n",
      "[CV 2/5; 7/12] END max_depth=25, max_features=sqrt, n_estimators=100;, score=0.800 total time=   2.1s\n",
      "[CV 3/5; 7/12] START max_depth=25, max_features=sqrt, n_estimators=100..........\n",
      "[CV 3/5; 7/12] END max_depth=25, max_features=sqrt, n_estimators=100;, score=0.782 total time=   2.4s\n",
      "[CV 4/5; 7/12] START max_depth=25, max_features=sqrt, n_estimators=100..........\n",
      "[CV 4/5; 7/12] END max_depth=25, max_features=sqrt, n_estimators=100;, score=0.776 total time=   1.7s\n",
      "[CV 5/5; 7/12] START max_depth=25, max_features=sqrt, n_estimators=100..........\n",
      "[CV 5/5; 7/12] END max_depth=25, max_features=sqrt, n_estimators=100;, score=0.773 total time=   1.7s\n",
      "[CV 1/5; 8/12] START max_depth=25, max_features=sqrt, n_estimators=150..........\n",
      "[CV 1/5; 8/12] END max_depth=25, max_features=sqrt, n_estimators=150;, score=0.793 total time=   2.9s\n",
      "[CV 2/5; 8/12] START max_depth=25, max_features=sqrt, n_estimators=150..........\n",
      "[CV 2/5; 8/12] END max_depth=25, max_features=sqrt, n_estimators=150;, score=0.800 total time=   2.7s\n",
      "[CV 3/5; 8/12] START max_depth=25, max_features=sqrt, n_estimators=150..........\n",
      "[CV 3/5; 8/12] END max_depth=25, max_features=sqrt, n_estimators=150;, score=0.781 total time=   2.6s\n",
      "[CV 4/5; 8/12] START max_depth=25, max_features=sqrt, n_estimators=150..........\n",
      "[CV 4/5; 8/12] END max_depth=25, max_features=sqrt, n_estimators=150;, score=0.775 total time=   2.9s\n",
      "[CV 5/5; 8/12] START max_depth=25, max_features=sqrt, n_estimators=150..........\n",
      "[CV 5/5; 8/12] END max_depth=25, max_features=sqrt, n_estimators=150;, score=0.776 total time=   2.4s\n",
      "[CV 1/5; 9/12] START max_depth=25, max_features=sqrt, n_estimators=200..........\n",
      "[CV 1/5; 9/12] END max_depth=25, max_features=sqrt, n_estimators=200;, score=0.789 total time=   3.8s\n",
      "[CV 2/5; 9/12] START max_depth=25, max_features=sqrt, n_estimators=200..........\n",
      "[CV 2/5; 9/12] END max_depth=25, max_features=sqrt, n_estimators=200;, score=0.805 total time=   3.5s\n",
      "[CV 3/5; 9/12] START max_depth=25, max_features=sqrt, n_estimators=200..........\n",
      "[CV 3/5; 9/12] END max_depth=25, max_features=sqrt, n_estimators=200;, score=0.784 total time=   4.0s\n",
      "[CV 4/5; 9/12] START max_depth=25, max_features=sqrt, n_estimators=200..........\n",
      "[CV 4/5; 9/12] END max_depth=25, max_features=sqrt, n_estimators=200;, score=0.776 total time=   4.1s\n",
      "[CV 5/5; 9/12] START max_depth=25, max_features=sqrt, n_estimators=200..........\n",
      "[CV 5/5; 9/12] END max_depth=25, max_features=sqrt, n_estimators=200;, score=0.775 total time=   3.4s\n",
      "[CV 1/5; 10/12] START max_depth=25, max_features=log2, n_estimators=100.........\n",
      "[CV 1/5; 10/12] END max_depth=25, max_features=log2, n_estimators=100;, score=0.788 total time=   1.6s\n",
      "[CV 2/5; 10/12] START max_depth=25, max_features=log2, n_estimators=100.........\n",
      "[CV 2/5; 10/12] END max_depth=25, max_features=log2, n_estimators=100;, score=0.800 total time=   1.7s\n",
      "[CV 3/5; 10/12] START max_depth=25, max_features=log2, n_estimators=100.........\n",
      "[CV 3/5; 10/12] END max_depth=25, max_features=log2, n_estimators=100;, score=0.782 total time=   1.9s\n",
      "[CV 4/5; 10/12] START max_depth=25, max_features=log2, n_estimators=100.........\n",
      "[CV 4/5; 10/12] END max_depth=25, max_features=log2, n_estimators=100;, score=0.776 total time=   1.7s\n",
      "[CV 5/5; 10/12] START max_depth=25, max_features=log2, n_estimators=100.........\n",
      "[CV 5/5; 10/12] END max_depth=25, max_features=log2, n_estimators=100;, score=0.773 total time=   1.8s\n",
      "[CV 1/5; 11/12] START max_depth=25, max_features=log2, n_estimators=150.........\n",
      "[CV 1/5; 11/12] END max_depth=25, max_features=log2, n_estimators=150;, score=0.793 total time=   2.8s\n",
      "[CV 2/5; 11/12] START max_depth=25, max_features=log2, n_estimators=150.........\n",
      "[CV 2/5; 11/12] END max_depth=25, max_features=log2, n_estimators=150;, score=0.800 total time=   2.4s\n",
      "[CV 3/5; 11/12] START max_depth=25, max_features=log2, n_estimators=150.........\n",
      "[CV 3/5; 11/12] END max_depth=25, max_features=log2, n_estimators=150;, score=0.781 total time=   2.6s\n",
      "[CV 4/5; 11/12] START max_depth=25, max_features=log2, n_estimators=150.........\n",
      "[CV 4/5; 11/12] END max_depth=25, max_features=log2, n_estimators=150;, score=0.775 total time=   2.3s\n",
      "[CV 5/5; 11/12] START max_depth=25, max_features=log2, n_estimators=150.........\n",
      "[CV 5/5; 11/12] END max_depth=25, max_features=log2, n_estimators=150;, score=0.776 total time=   2.5s\n",
      "[CV 1/5; 12/12] START max_depth=25, max_features=log2, n_estimators=200.........\n",
      "[CV 1/5; 12/12] END max_depth=25, max_features=log2, n_estimators=200;, score=0.789 total time=   3.3s\n",
      "[CV 2/5; 12/12] START max_depth=25, max_features=log2, n_estimators=200.........\n",
      "[CV 2/5; 12/12] END max_depth=25, max_features=log2, n_estimators=200;, score=0.805 total time=   3.3s\n",
      "[CV 3/5; 12/12] START max_depth=25, max_features=log2, n_estimators=200.........\n",
      "[CV 3/5; 12/12] END max_depth=25, max_features=log2, n_estimators=200;, score=0.784 total time=   2.9s\n",
      "[CV 4/5; 12/12] START max_depth=25, max_features=log2, n_estimators=200.........\n",
      "[CV 4/5; 12/12] END max_depth=25, max_features=log2, n_estimators=200;, score=0.776 total time=   3.2s\n",
      "[CV 5/5; 12/12] START max_depth=25, max_features=log2, n_estimators=200.........\n",
      "[CV 5/5; 12/12] END max_depth=25, max_features=log2, n_estimators=200;, score=0.775 total time=   3.3s\n",
      "\n",
      "\n",
      "Time taken to find the best combination of hyperparameters among the given ones:  152.0171 seconds\n",
      "\n",
      "\n",
      "The best combination of hyperparameters has been: {'max_depth': 10, 'max_features': 'sqrt', 'n_estimators': 200}\n",
      "The R2 is:  0.8037\n"
     ]
    },
    {
     "ename": "NameError",
     "evalue": "name 'st' is not defined",
     "output_type": "error",
     "traceback": [
      "\u001b[1;31m---------------------------------------------------------------------------\u001b[0m",
      "\u001b[1;31mNameError\u001b[0m                                 Traceback (most recent call last)",
      "Cell \u001b[1;32mIn[59], line 22\u001b[0m\n\u001b[0;32m     19\u001b[0m gs_mean_score \u001b[38;5;241m=\u001b[39m results_gs_df\u001b[38;5;241m.\u001b[39miloc[\u001b[38;5;241m0\u001b[39m,\u001b[38;5;241m-\u001b[39m\u001b[38;5;241m3\u001b[39m]\n\u001b[0;32m     20\u001b[0m gs_sem \u001b[38;5;241m=\u001b[39m results_gs_df\u001b[38;5;241m.\u001b[39miloc[\u001b[38;5;241m0\u001b[39m,\u001b[38;5;241m-\u001b[39m\u001b[38;5;241m2\u001b[39m] \u001b[38;5;241m/\u001b[39m np\u001b[38;5;241m.\u001b[39msqrt(\u001b[38;5;241m10\u001b[39m)\n\u001b[1;32m---> 22\u001b[0m gs_tc \u001b[38;5;241m=\u001b[39m st\u001b[38;5;241m.\u001b[39mt\u001b[38;5;241m.\u001b[39mppf(\u001b[38;5;241m1\u001b[39m\u001b[38;5;241m-\u001b[39m((\u001b[38;5;241m1\u001b[39m\u001b[38;5;241m-\u001b[39mconfidence_level)\u001b[38;5;241m/\u001b[39m\u001b[38;5;241m2\u001b[39m), df\u001b[38;5;241m=\u001b[39mfolds\u001b[38;5;241m-\u001b[39m\u001b[38;5;241m1\u001b[39m)\n\u001b[0;32m     23\u001b[0m gs_lower_bound \u001b[38;5;241m=\u001b[39m gs_mean_score \u001b[38;5;241m-\u001b[39m ( gs_tc \u001b[38;5;241m*\u001b[39m gs_sem )\n\u001b[0;32m     24\u001b[0m gs_upper_bound \u001b[38;5;241m=\u001b[39m gs_mean_score \u001b[38;5;241m+\u001b[39m ( gs_tc \u001b[38;5;241m*\u001b[39m gs_sem )\n",
      "\u001b[1;31mNameError\u001b[0m: name 'st' is not defined"
     ]
    }
   ],
   "source": [
    "# Now we need to create an intance of the GridSearchCV class\n",
    "# The option \"scoring\", alongside with \"make_scorer\" allows you to evaluate the model performance using a different error metrics.\n",
    "gs = GridSearchCV(dt, param_grid=parameter_grid, cv=folds, verbose=10) # Here the \"cv\" allows you to define the number of folds to use.\n",
    "\n",
    "start_time = time.time()\n",
    "gs.fit(x_train_norm, y_train)\n",
    "end_time = time.time()\n",
    "\n",
    "print(\"\\n\")\n",
    "print(f\"Time taken to find the best combination of hyperparameters among the given ones: {end_time - start_time: .4f} seconds\")\n",
    "print(\"\\n\")\n",
    "\n",
    "\n",
    "print(f\"The best combination of hyperparameters has been: {gs.best_params_}\")\n",
    "print(f\"The R2 is: {gs.best_score_: .4f}\")\n",
    "\n",
    "results_gs_df = pd.DataFrame(gs.cv_results_).sort_values(by=\"mean_test_score\", ascending=False)\n",
    "\n",
    "gs_mean_score = results_gs_df.iloc[0,-3]\n",
    "gs_sem = results_gs_df.iloc[0,-2] / np.sqrt(10)"
   ]
  },
  {
   "cell_type": "code",
   "execution_count": 64,
   "metadata": {},
   "outputs": [
    {
     "name": "stdout",
     "output_type": "stream",
     "text": [
      "The R2 confidence interval for the best combination of hyperparameters is:     ( 0.7948,  0.8037,  0.8127) \n"
     ]
    }
   ],
   "source": [
    "gs_tc = st.t.ppf(1-((1-confidence_level)/2), df=folds-1)\n",
    "gs_lower_bound = gs_mean_score - ( gs_tc * gs_sem )\n",
    "gs_upper_bound = gs_mean_score + ( gs_tc * gs_sem )\n",
    "\n",
    "print(f\"The R2 confidence interval for the best combination of hyperparameters is: \\\n",
    "    ({gs_lower_bound: .4f}, {gs_mean_score: .4f}, {gs_upper_bound: .4f}) \")\n",
    "\n",
    "# Let's store the best model\n",
    "best_model = gs.best_estimator_"
   ]
  },
  {
   "cell_type": "markdown",
   "metadata": {},
   "source": [
    "- Evaluate your model"
   ]
  },
  {
   "cell_type": "code",
   "execution_count": 70,
   "metadata": {},
   "outputs": [
    {
     "name": "stdout",
     "output_type": "stream",
     "text": [
      "\n",
      "\n",
      "Test MAE:  0.2148\n",
      "Test MSE:  0.2148\n",
      "Test RMSE:  0.4635\n",
      "Test R2 score:   0.7852\n",
      "Train R2 score:   0.8645\n",
      "\n",
      "\n"
     ]
    }
   ],
   "source": [
    "# Now is time evaluate the model in the test set\n",
    "y_pred_test_df = best_model.predict(x_test_norm)\n",
    "\n",
    "print(\"\\n\")\n",
    "print(f\"Test MAE: {mean_absolute_error(y_pred_test_df, y_test): .4f}\")\n",
    "print(f\"Test MSE: {mean_squared_error(y_pred_test_df, y_test): .4f}\")\n",
    "print(f\"Test RMSE: {root_mean_squared_error(y_pred_test_df, y_test): .4f}\")\n",
    "print(f\"Test R2 score:  {best_model.score(x_test_norm, y_test): .4f}\")\n",
    "print(f\"Train R2 score:  {best_model.score(x_train_norm, y_train): .4f}\")\n",
    "print(\"\\n\")"
   ]
  },
  {
   "cell_type": "code",
   "execution_count": 72,
   "metadata": {},
   "outputs": [],
   "source": [
    "# Overall this score is very similar to the one ran at the start with:\n",
    "#    n_estimators=100\n",
    "#    max_depth=20)\n",
    "\n",
    "# MAE:  0.213\n",
    "# RMSE:  0.462\n",
    "# Test Score:  0.787\n",
    "# Train Score:  0.940\n",
    "\n",
    "# Overall the test score is essentially the same and the train score moved slightly worse"
   ]
  },
  {
   "cell_type": "code",
   "execution_count": null,
   "metadata": {},
   "outputs": [],
   "source": []
  },
  {
   "cell_type": "code",
   "execution_count": null,
   "metadata": {},
   "outputs": [],
   "source": []
  }
 ],
 "metadata": {
  "kernelspec": {
   "display_name": "Python 3 (ipykernel)",
   "language": "python",
   "name": "python3"
  },
  "language_info": {
   "codemirror_mode": {
    "name": "ipython",
    "version": 3
   },
   "file_extension": ".py",
   "mimetype": "text/x-python",
   "name": "python",
   "nbconvert_exporter": "python",
   "pygments_lexer": "ipython3",
   "version": "3.12.3"
  }
 },
 "nbformat": 4,
 "nbformat_minor": 4
}

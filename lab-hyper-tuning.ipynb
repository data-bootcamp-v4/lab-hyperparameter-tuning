{
 "cells": [
  {
   "cell_type": "markdown",
   "metadata": {},
   "source": [
    "# LAB | Hyperparameter Tuning"
   ]
  },
  {
   "cell_type": "markdown",
   "metadata": {},
   "source": [
    "**Load the data**\n",
    "\n",
    "Finally step in order to maximize the performance on your Spaceship Titanic model.\n",
    "\n",
    "The data can be found here:\n",
    "\n",
    "https://raw.githubusercontent.com/data-bootcamp-v4/data/main/spaceship_titanic.csv\n",
    "\n",
    "Metadata\n",
    "\n",
    "https://github.com/data-bootcamp-v4/data/blob/main/spaceship_titanic.md"
   ]
  },
  {
   "cell_type": "markdown",
   "metadata": {},
   "source": [
    "So far we've been training and evaluating models with default values for hyperparameters.\n",
    "\n",
    "Today we will perform the same feature engineering as before, and then compare the best working models you got so far, but now fine tuning it's hyperparameters."
   ]
  },
  {
   "cell_type": "code",
   "execution_count": 2,
   "metadata": {},
   "outputs": [],
   "source": [
    "#Libraries\n",
    "import pandas as pd\n",
    "import numpy as np\n",
    "from sklearn.model_selection import train_test_split"
   ]
  },
  {
   "cell_type": "code",
   "execution_count": 3,
   "metadata": {},
   "outputs": [
    {
     "data": {
      "text/html": [
       "<div>\n",
       "<style scoped>\n",
       "    .dataframe tbody tr th:only-of-type {\n",
       "        vertical-align: middle;\n",
       "    }\n",
       "\n",
       "    .dataframe tbody tr th {\n",
       "        vertical-align: top;\n",
       "    }\n",
       "\n",
       "    .dataframe thead th {\n",
       "        text-align: right;\n",
       "    }\n",
       "</style>\n",
       "<table border=\"1\" class=\"dataframe\">\n",
       "  <thead>\n",
       "    <tr style=\"text-align: right;\">\n",
       "      <th></th>\n",
       "      <th>PassengerId</th>\n",
       "      <th>HomePlanet</th>\n",
       "      <th>CryoSleep</th>\n",
       "      <th>Cabin</th>\n",
       "      <th>Destination</th>\n",
       "      <th>Age</th>\n",
       "      <th>VIP</th>\n",
       "      <th>RoomService</th>\n",
       "      <th>FoodCourt</th>\n",
       "      <th>ShoppingMall</th>\n",
       "      <th>Spa</th>\n",
       "      <th>VRDeck</th>\n",
       "      <th>Name</th>\n",
       "      <th>Transported</th>\n",
       "    </tr>\n",
       "  </thead>\n",
       "  <tbody>\n",
       "    <tr>\n",
       "      <th>0</th>\n",
       "      <td>0001_01</td>\n",
       "      <td>Europa</td>\n",
       "      <td>False</td>\n",
       "      <td>B/0/P</td>\n",
       "      <td>TRAPPIST-1e</td>\n",
       "      <td>39.0</td>\n",
       "      <td>False</td>\n",
       "      <td>0.0</td>\n",
       "      <td>0.0</td>\n",
       "      <td>0.0</td>\n",
       "      <td>0.0</td>\n",
       "      <td>0.0</td>\n",
       "      <td>Maham Ofracculy</td>\n",
       "      <td>False</td>\n",
       "    </tr>\n",
       "    <tr>\n",
       "      <th>1</th>\n",
       "      <td>0002_01</td>\n",
       "      <td>Earth</td>\n",
       "      <td>False</td>\n",
       "      <td>F/0/S</td>\n",
       "      <td>TRAPPIST-1e</td>\n",
       "      <td>24.0</td>\n",
       "      <td>False</td>\n",
       "      <td>109.0</td>\n",
       "      <td>9.0</td>\n",
       "      <td>25.0</td>\n",
       "      <td>549.0</td>\n",
       "      <td>44.0</td>\n",
       "      <td>Juanna Vines</td>\n",
       "      <td>True</td>\n",
       "    </tr>\n",
       "    <tr>\n",
       "      <th>2</th>\n",
       "      <td>0003_01</td>\n",
       "      <td>Europa</td>\n",
       "      <td>False</td>\n",
       "      <td>A/0/S</td>\n",
       "      <td>TRAPPIST-1e</td>\n",
       "      <td>58.0</td>\n",
       "      <td>True</td>\n",
       "      <td>43.0</td>\n",
       "      <td>3576.0</td>\n",
       "      <td>0.0</td>\n",
       "      <td>6715.0</td>\n",
       "      <td>49.0</td>\n",
       "      <td>Altark Susent</td>\n",
       "      <td>False</td>\n",
       "    </tr>\n",
       "    <tr>\n",
       "      <th>3</th>\n",
       "      <td>0003_02</td>\n",
       "      <td>Europa</td>\n",
       "      <td>False</td>\n",
       "      <td>A/0/S</td>\n",
       "      <td>TRAPPIST-1e</td>\n",
       "      <td>33.0</td>\n",
       "      <td>False</td>\n",
       "      <td>0.0</td>\n",
       "      <td>1283.0</td>\n",
       "      <td>371.0</td>\n",
       "      <td>3329.0</td>\n",
       "      <td>193.0</td>\n",
       "      <td>Solam Susent</td>\n",
       "      <td>False</td>\n",
       "    </tr>\n",
       "    <tr>\n",
       "      <th>4</th>\n",
       "      <td>0004_01</td>\n",
       "      <td>Earth</td>\n",
       "      <td>False</td>\n",
       "      <td>F/1/S</td>\n",
       "      <td>TRAPPIST-1e</td>\n",
       "      <td>16.0</td>\n",
       "      <td>False</td>\n",
       "      <td>303.0</td>\n",
       "      <td>70.0</td>\n",
       "      <td>151.0</td>\n",
       "      <td>565.0</td>\n",
       "      <td>2.0</td>\n",
       "      <td>Willy Santantines</td>\n",
       "      <td>True</td>\n",
       "    </tr>\n",
       "  </tbody>\n",
       "</table>\n",
       "</div>"
      ],
      "text/plain": [
       "  PassengerId HomePlanet CryoSleep  Cabin  Destination   Age    VIP  \\\n",
       "0     0001_01     Europa     False  B/0/P  TRAPPIST-1e  39.0  False   \n",
       "1     0002_01      Earth     False  F/0/S  TRAPPIST-1e  24.0  False   \n",
       "2     0003_01     Europa     False  A/0/S  TRAPPIST-1e  58.0   True   \n",
       "3     0003_02     Europa     False  A/0/S  TRAPPIST-1e  33.0  False   \n",
       "4     0004_01      Earth     False  F/1/S  TRAPPIST-1e  16.0  False   \n",
       "\n",
       "   RoomService  FoodCourt  ShoppingMall     Spa  VRDeck               Name  \\\n",
       "0          0.0        0.0           0.0     0.0     0.0    Maham Ofracculy   \n",
       "1        109.0        9.0          25.0   549.0    44.0       Juanna Vines   \n",
       "2         43.0     3576.0           0.0  6715.0    49.0      Altark Susent   \n",
       "3          0.0     1283.0         371.0  3329.0   193.0       Solam Susent   \n",
       "4        303.0       70.0         151.0   565.0     2.0  Willy Santantines   \n",
       "\n",
       "   Transported  \n",
       "0        False  \n",
       "1         True  \n",
       "2        False  \n",
       "3        False  \n",
       "4         True  "
      ]
     },
     "execution_count": 3,
     "metadata": {},
     "output_type": "execute_result"
    }
   ],
   "source": [
    "spaceship = pd.read_csv(\"https://raw.githubusercontent.com/data-bootcamp-v4/data/main/spaceship_titanic.csv\")\n",
    "spaceship.head()"
   ]
  },
  {
   "cell_type": "markdown",
   "metadata": {},
   "source": [
    "Now perform the same as before:\n",
    "- Feature Scaling\n",
    "- Feature Selection\n"
   ]
  },
  {
   "cell_type": "code",
   "execution_count": 4,
   "metadata": {},
   "outputs": [
    {
     "name": "stdout",
     "output_type": "stream",
     "text": [
      "<class 'pandas.core.frame.DataFrame'>\n",
      "RangeIndex: 8693 entries, 0 to 8692\n",
      "Data columns (total 14 columns):\n",
      " #   Column        Non-Null Count  Dtype  \n",
      "---  ------        --------------  -----  \n",
      " 0   PassengerId   8693 non-null   object \n",
      " 1   HomePlanet    8492 non-null   object \n",
      " 2   CryoSleep     8476 non-null   object \n",
      " 3   Cabin         8494 non-null   object \n",
      " 4   Destination   8511 non-null   object \n",
      " 5   Age           8514 non-null   float64\n",
      " 6   VIP           8490 non-null   object \n",
      " 7   RoomService   8512 non-null   float64\n",
      " 8   FoodCourt     8510 non-null   float64\n",
      " 9   ShoppingMall  8485 non-null   float64\n",
      " 10  Spa           8510 non-null   float64\n",
      " 11  VRDeck        8505 non-null   float64\n",
      " 12  Name          8493 non-null   object \n",
      " 13  Transported   8693 non-null   bool   \n",
      "dtypes: bool(1), float64(6), object(7)\n",
      "memory usage: 891.5+ KB\n"
     ]
    }
   ],
   "source": [
    "#From previous labs \n",
    "spaceship.info()"
   ]
  },
  {
   "cell_type": "code",
   "execution_count": 5,
   "metadata": {},
   "outputs": [
    {
     "data": {
      "text/plain": [
       "PassengerId       0\n",
       "HomePlanet      201\n",
       "CryoSleep       217\n",
       "Cabin           199\n",
       "Destination     182\n",
       "Age             179\n",
       "VIP             203\n",
       "RoomService     181\n",
       "FoodCourt       183\n",
       "ShoppingMall    208\n",
       "Spa             183\n",
       "VRDeck          188\n",
       "Name            200\n",
       "Transported       0\n",
       "dtype: int64"
      ]
     },
     "execution_count": 5,
     "metadata": {},
     "output_type": "execute_result"
    }
   ],
   "source": [
    "spaceship.isnull().sum()"
   ]
  },
  {
   "cell_type": "code",
   "execution_count": 6,
   "metadata": {},
   "outputs": [],
   "source": [
    "#Drop Nulls\n",
    "spaceship.dropna(inplace=True)"
   ]
  },
  {
   "cell_type": "code",
   "execution_count": 7,
   "metadata": {},
   "outputs": [],
   "source": [
    "# Extract the first letter of the Cabin and replace NaN values with 'Unknown'\n",
    "spaceship['Cabin'] = spaceship['Cabin'].str[0].fillna('Unknown')"
   ]
  },
  {
   "cell_type": "code",
   "execution_count": 8,
   "metadata": {},
   "outputs": [
    {
     "name": "stdout",
     "output_type": "stream",
     "text": [
      "  HomePlanet CryoSleep Cabin  Destination   Age    VIP  RoomService  \\\n",
      "0     Europa     False     B  TRAPPIST-1e  39.0  False          0.0   \n",
      "1      Earth     False     F  TRAPPIST-1e  24.0  False        109.0   \n",
      "2     Europa     False     A  TRAPPIST-1e  58.0   True         43.0   \n",
      "3     Europa     False     A  TRAPPIST-1e  33.0  False          0.0   \n",
      "4      Earth     False     F  TRAPPIST-1e  16.0  False        303.0   \n",
      "\n",
      "   FoodCourt  ShoppingMall     Spa  VRDeck  Transported  \n",
      "0        0.0           0.0     0.0     0.0        False  \n",
      "1        9.0          25.0   549.0    44.0         True  \n",
      "2     3576.0           0.0  6715.0    49.0        False  \n",
      "3     1283.0         371.0  3329.0   193.0        False  \n",
      "4       70.0         151.0   565.0     2.0         True  \n"
     ]
    }
   ],
   "source": [
    "# Drop PassengerId and Name columns from spaceship DataFrame\n",
    "spaceship = spaceship.drop(['PassengerId', 'Name'], axis=1)\n",
    "\n",
    "# Display the updated DataFrame\n",
    "print(spaceship.head())"
   ]
  },
  {
   "cell_type": "code",
   "execution_count": 9,
   "metadata": {},
   "outputs": [
    {
     "name": "stdout",
     "output_type": "stream",
     "text": [
      "    Age  RoomService  FoodCourt  ShoppingMall     Spa  VRDeck  Transported  \\\n",
      "0  39.0          0.0        0.0           0.0     0.0     0.0        False   \n",
      "1  24.0        109.0        9.0          25.0   549.0    44.0         True   \n",
      "2  58.0         43.0     3576.0           0.0  6715.0    49.0        False   \n",
      "3  33.0          0.0     1283.0         371.0  3329.0   193.0        False   \n",
      "4  16.0        303.0       70.0         151.0   565.0     2.0         True   \n",
      "\n",
      "   HomePlanet_Europa  HomePlanet_Mars  CryoSleep_True  Cabin_B  Cabin_C  \\\n",
      "0               True            False           False     True    False   \n",
      "1              False            False           False    False    False   \n",
      "2               True            False           False    False    False   \n",
      "3               True            False           False    False    False   \n",
      "4              False            False           False    False    False   \n",
      "\n",
      "   Cabin_D  Cabin_E  Cabin_F  Cabin_G  Cabin_T  Destination_PSO J318.5-22  \\\n",
      "0    False    False    False    False    False                      False   \n",
      "1    False    False     True    False    False                      False   \n",
      "2    False    False    False    False    False                      False   \n",
      "3    False    False    False    False    False                      False   \n",
      "4    False    False     True    False    False                      False   \n",
      "\n",
      "   Destination_TRAPPIST-1e  VIP_True  \n",
      "0                     True     False  \n",
      "1                     True     False  \n",
      "2                     True      True  \n",
      "3                     True     False  \n",
      "4                     True     False  \n"
     ]
    }
   ],
   "source": [
    "# Create dummy variables for non-numerical columns\n",
    "spaceship = pd.get_dummies(spaceship, columns=spaceship.select_dtypes(include=['object']).columns, drop_first=True)\n",
    "\n",
    "# Display the updated DataFrame\n",
    "print(spaceship.head())"
   ]
  },
  {
   "cell_type": "code",
   "execution_count": 10,
   "metadata": {},
   "outputs": [
    {
     "name": "stdout",
     "output_type": "stream",
     "text": [
      "X_train shape: (5284, 19)\n",
      "X_test shape: (1322, 19)\n",
      "y_train shape: (5284,)\n",
      "y_test shape: (1322,)\n"
     ]
    }
   ],
   "source": [
    "from sklearn.model_selection import train_test_split\n",
    "\n",
    "# Assuming 'Transported' is the target variable\n",
    "X = spaceship.drop('Transported', axis=1)  # Features\n",
    "y = spaceship['Transported']  # Target\n",
    "\n",
    "# Perform the train-test split (80% training, 20% testing)\n",
    "X_train, X_test, y_train, y_test = train_test_split(X, y, test_size=0.2, random_state=42)\n",
    "\n",
    "# Check the shapes of the split data\n",
    "print(\"X_train shape:\", X_train.shape)\n",
    "print(\"X_test shape:\", X_test.shape)\n",
    "print(\"y_train shape:\", y_train.shape)\n",
    "print(\"y_test shape:\", y_test.shape)"
   ]
  },
  {
   "cell_type": "code",
   "execution_count": 13,
   "metadata": {},
   "outputs": [
    {
     "name": "stdout",
     "output_type": "stream",
     "text": [
      "HistGradient Boosting Model Accuracy: 0.8185\n"
     ]
    }
   ],
   "source": [
    "from sklearn.experimental import enable_hist_gradient_boosting  # noqa\n",
    "from sklearn.ensemble import HistGradientBoostingClassifier\n",
    "from sklearn.metrics import accuracy_score  # Add this import\n",
    "\n",
    "# Initialize and fit the HistGradient Boosting model\n",
    "hgb_model = HistGradientBoostingClassifier(random_state=42)\n",
    "hgb_model.fit(X_train, y_train)\n",
    "\n",
    "# Make predictions on the test set\n",
    "y_pred_hgb = hgb_model.predict(X_test)\n",
    "\n",
    "# Calculate the accuracy of the model\n",
    "hgb_accuracy = accuracy_score(y_test, y_pred_hgb)\n",
    "print(f'HistGradient Boosting Model Accuracy: {hgb_accuracy:.4f}')\n"
   ]
  },
  {
   "cell_type": "markdown",
   "metadata": {},
   "source": [
    "- Now let's use the best model we got so far in order to see how it can improve when we fine tune it's hyperparameters."
   ]
  },
  {
   "cell_type": "code",
   "execution_count": 14,
   "metadata": {},
   "outputs": [
    {
     "name": "stdout",
     "output_type": "stream",
     "text": [
      "Fitting 5 folds for each of 243 candidates, totalling 1215 fits\n",
      "Best Hyperparameters: {'l2_regularization': 10, 'learning_rate': 0.2, 'max_depth': 3, 'max_iter': 100, 'min_samples_leaf': 20}\n",
      "Tuned HistGradient Boosting Model Accuracy: 0.8109\n"
     ]
    }
   ],
   "source": [
    "from sklearn.experimental import enable_hist_gradient_boosting  # noqa\n",
    "from sklearn.ensemble import HistGradientBoostingClassifier\n",
    "from sklearn.model_selection import GridSearchCV\n",
    "from sklearn.metrics import accuracy_score\n",
    "\n",
    "# Step 1: Define the model\n",
    "hgb_model = HistGradientBoostingClassifier(random_state=42)\n",
    "\n",
    "# Step 2: Define the hyperparameters and their respective ranges for grid search\n",
    "param_grid = {\n",
    "    'learning_rate': [0.01, 0.1, 0.2],\n",
    "    'max_iter': [100, 200, 300],\n",
    "    'max_depth': [None, 3, 5],\n",
    "    'min_samples_leaf': [20, 30, 40],\n",
    "    'l2_regularization': [0, 1, 10]\n",
    "}\n",
    "\n",
    "# Step 3: Initialize GridSearchCV with the model, hyperparameter grid, and other options\n",
    "grid_search = GridSearchCV(estimator=hgb_model, param_grid=param_grid, \n",
    "                           cv=5, scoring='accuracy', verbose=1, n_jobs=-1)\n",
    "\n",
    "# Step 4: Fit the grid search model\n",
    "grid_search.fit(X_train, y_train)\n",
    "\n",
    "# Step 5: Check the best parameters from the grid search\n",
    "print(f\"Best Hyperparameters: {grid_search.best_params_}\")\n",
    "\n",
    "# Step 6: Evaluate the model with the best found parameters on the test set\n",
    "best_model = grid_search.best_estimator_\n",
    "y_pred_hgb_tuned = best_model.predict(X_test)\n",
    "\n",
    "# Step 7: Calculate and print the accuracy of the tuned model\n",
    "hgb_tuned_accuracy = accuracy_score(y_test, y_pred_hgb_tuned)\n",
    "print(f'Tuned HistGradient Boosting Model Accuracy: {hgb_tuned_accuracy:.4f}')\n"
   ]
  },
  {
   "cell_type": "markdown",
   "metadata": {},
   "source": [
    "- Evaluate your model"
   ]
  },
  {
   "cell_type": "markdown",
   "metadata": {},
   "source": [
    "Results:\n",
    "Initial Accuracy: 0.8185\n",
    "Tuned Accuracy: 0.8109\n",
    "Interpretation:\n",
    "Your tuned model's performance (0.8109) is slightly lower than the initial model's performance (0.8185).\n",
    "This can happen if the chosen hyperparameters from grid search lead to slight overfitting, underfitting, or if the grid search doesn't cover the best set of parameters."
   ]
  },
  {
   "cell_type": "code",
   "execution_count": 1,
   "metadata": {},
   "outputs": [
    {
     "name": "stdout",
     "output_type": "stream",
     "text": [
      "              precision    recall  f1-score   support\n",
      "\n",
      "       False       0.84      0.76      0.80       653\n",
      "        True       0.78      0.86      0.82       669\n",
      "\n",
      "    accuracy                           0.81      1322\n",
      "   macro avg       0.81      0.81      0.81      1322\n",
      "weighted avg       0.81      0.81      0.81      1322\n",
      "\n"
     ]
    }
   ],
   "source": [
    "# Step 1: Check if the hyperparameters are overfitting\n",
    "# Compare model performance metrics beyond just accuracy (e.g., precision, recall, ROC AUC, etc.)\n",
    "from sklearn.metrics import classification_report\n",
    "\n",
    "print(classification_report(y_test, y_pred_hgb_tuned))\n",
    "\n",
    "# Step 2: Consider trying a more extensive grid search or other models\n",
    "# For example, trying a RandomForest or XGBoost if HistGradientBoosting isn't yielding strong results.\n"
   ]
  },
  {
   "cell_type": "markdown",
   "metadata": {},
   "source": [
    "**Grid/Random Search**"
   ]
  },
  {
   "cell_type": "markdown",
   "metadata": {},
   "source": [
    "For this lab we will use Grid Search."
   ]
  },
  {
   "cell_type": "code",
   "execution_count": 21,
   "metadata": {},
   "outputs": [
    {
     "name": "stdout",
     "output_type": "stream",
     "text": [
      "Fitting 5 folds for each of 243 candidates, totalling 1215 fits\n",
      "Best Hyperparameters: {'l2_regularization': 10, 'learning_rate': 0.2, 'max_depth': 3, 'max_iter': 100, 'min_samples_leaf': 20}\n"
     ]
    }
   ],
   "source": [
    "# Define the HistGradientBoostingClassifier model\n",
    "hgb_model = HistGradientBoostingClassifier(random_state=42)\n",
    "\n",
    "# Define the hyperparameters to tune\n",
    "param_grid = {\n",
    "    'learning_rate': [0.01, 0.1, 0.2],  # Explore different learning rates\n",
    "    'max_iter': [100, 200, 300],        # Try different iterations for boosting\n",
    "    'max_depth': [None, 3, 5],           # Maximum depth for each tree\n",
    "    'min_samples_leaf': [20, 30, 40],    # Minimum number of samples per leaf\n",
    "    'l2_regularization': [0, 1, 10]      # Regularization strength\n",
    "}\n",
    "\n",
    "# Initialize GridSearchCV\n",
    "grid_search = GridSearchCV(estimator=hgb_model, param_grid=param_grid, \n",
    "                           cv=5, scoring='accuracy', verbose=1, n_jobs=-1)\n",
    "\n",
    "# Fit the model with GridSearchCV\n",
    "grid_search.fit(X_train, y_train)\n",
    "\n",
    "# Get the best parameters from GridSearchCV\n",
    "best_params = grid_search.best_params_\n",
    "print(f\"Best Hyperparameters: {best_params}\")\n"
   ]
  },
  {
   "cell_type": "markdown",
   "metadata": {},
   "source": [
    "- Run Grid Search"
   ]
  },
  {
   "cell_type": "code",
   "execution_count": 22,
   "metadata": {},
   "outputs": [
    {
     "name": "stdout",
     "output_type": "stream",
     "text": [
      "Tuned HistGradient Boosting Model Accuracy: 0.8109\n",
      "\n",
      "Classification Report:\n",
      "              precision    recall  f1-score   support\n",
      "\n",
      "       False       0.84      0.76      0.80       653\n",
      "        True       0.78      0.86      0.82       669\n",
      "\n",
      "    accuracy                           0.81      1322\n",
      "   macro avg       0.81      0.81      0.81      1322\n",
      "weighted avg       0.81      0.81      0.81      1322\n",
      "\n"
     ]
    }
   ],
   "source": [
    "# Evaluate the best model found by GridSearchCV on the test set\n",
    "best_model = grid_search.best_estimator_\n",
    "y_pred_hgb_tuned = best_model.predict(X_test)\n",
    "\n",
    "# Calculate accuracy\n",
    "accuracy = accuracy_score(y_test, y_pred_hgb_tuned)\n",
    "print(f'Tuned HistGradient Boosting Model Accuracy: {accuracy:.4f}')\n",
    "\n",
    "# Generate a classification report for more detailed evaluation\n",
    "print(\"\\nClassification Report:\")\n",
    "print(classification_report(y_test, y_pred_hgb_tuned))"
   ]
  },
  {
   "cell_type": "markdown",
   "metadata": {},
   "source": [
    "- Evaluate your model"
   ]
  },
  {
   "cell_type": "code",
   "execution_count": 23,
   "metadata": {},
   "outputs": [
    {
     "name": "stdout",
     "output_type": "stream",
     "text": [
      "Untuned HistGradient Boosting Model Accuracy: 0.8185\n",
      "Tuned HistGradient Boosting Model Accuracy: 0.8109\n"
     ]
    }
   ],
   "source": [
    "print(f'Untuned HistGradient Boosting Model Accuracy: {hgb_accuracy:.4f}')\n",
    "print(f'Tuned HistGradient Boosting Model Accuracy: {hgb_tuned_accuracy:.4f}')\n"
   ]
  },
  {
   "cell_type": "code",
   "execution_count": 26,
   "metadata": {},
   "outputs": [
    {
     "name": "stdout",
     "output_type": "stream",
     "text": [
      "Confusion Matrix:\n",
      "[[494 159]\n",
      " [ 91 578]]\n"
     ]
    }
   ],
   "source": [
    "from sklearn.metrics import confusion_matrix\n",
    "\n",
    "# Compute the confusion matrix\n",
    "conf_matrix = confusion_matrix(y_test, y_pred_hgb_tuned)\n",
    "print(\"Confusion Matrix:\")\n",
    "print(conf_matrix)\n"
   ]
  },
  {
   "cell_type": "code",
   "execution_count": 27,
   "metadata": {},
   "outputs": [
    {
     "name": "stdout",
     "output_type": "stream",
     "text": [
      "Confusion Matrix:\n",
      "[[494 159]\n",
      " [ 91 578]]\n"
     ]
    },
    {
     "data": {
      "image/png": "[encoded data removed]",
      "text/plain": [
       "<Figure size 640x480 with 2 Axes>"
      ]
     },
     "metadata": {},
     "output_type": "display_data"
    }
   ],
   "source": [
    "from sklearn.metrics import confusion_matrix\n",
    "\n",
    "# Compute the confusion matrix\n",
    "conf_matrix = confusion_matrix(y_test, y_pred_hgb_tuned)\n",
    "\n",
    "# Print the confusion matrix\n",
    "print(\"Confusion Matrix:\")\n",
    "print(conf_matrix)\n",
    "\n",
    "# Optionally, you can also label the confusion matrix for better clarity\n",
    "import seaborn as sns\n",
    "import matplotlib.pyplot as plt\n",
    "\n",
    "# Create a heatmap for the confusion matrix for better visualization\n",
    "sns.heatmap(conf_matrix, annot=True, fmt='d', cmap='Blues', \n",
    "            xticklabels=['False', 'True'], yticklabels=['False', 'True'])\n",
    "plt.xlabel('Predicted')\n",
    "plt.ylabel('Actual')\n",
    "plt.title('Confusion Matrix')\n",
    "plt.show()\n"
   ]
  },
  {
   "cell_type": "markdown",
   "metadata": {},
   "source": [
    "Conclusion: Comparison Between Tuned and Untuned Models\n",
    "\n",
    "Initial Model (Before Tuning):\n",
    "\n",
    "The HistGradientBoostingClassifier trained without hyperparameter tuning had an accuracy of 81.85%.\n",
    "The precision and recall values for both classes were relatively balanced, but the model showed potential for improving in areas such as recall for the positive class.\n",
    "While the initial model had strong predictive power, it could have benefited from fine-tuning the hyperparameters to better capture the underlying patterns in the data.\n",
    "Tuned Model (After Grid Search):\n",
    "\n",
    "After performing hyperparameter tuning using Grid Search, the accuracy decreased slightly to 81.09%.\n",
    "However, the precision and recall for the positive class improved, with recall increasing to 0.86, indicating better detection of positive instances (minimizing false negatives).\n",
    "Precision for the positive class decreased slightly to 0.78, showing that while the model is better at capturing positives, some of those predictions may not be as precise (increased false positives).\n",
    "The F1-score for the positive class improved to 0.82, demonstrating a more balanced performance between precision and recall.\n",
    "\n",
    "Key Differences:\n",
    "The untuned model had slightly higher accuracy, but the tuned model performed better in terms of recall, meaning it identified more positive cases, at the cost of a slight decrease in precision.\n",
    "The tuned model offers a better trade-off for scenarios where minimizing false negatives (detecting more positives) is more important than precision. In contrast, the untuned model might be better when false positives are more costly.\n",
    "The tuned model shows improved overall F1-score for the positive class, signaling a better balance in handling the minority class.\n",
    "\n",
    "In summary, hyperparameter tuning helped improve the model’s ability to detect positive cases, but it slightly impacted overall accuracy and precision. Depending on the application, the tuned model may be preferred for its better handling of the positive class, while the untuned model could be selected for scenarios where overall accuracy is the priority."
   ]
  }
 ],
 "metadata": {
  "kernelspec": {
   "display_name": "base",
   "language": "python",
   "name": "python3"
  },
  "language_info": {
   "codemirror_mode": {
    "name": "ipython",
    "version": 3
   },
   "file_extension": ".py",
   "mimetype": "text/x-python",
   "name": "python",
   "nbconvert_exporter": "python",
   "pygments_lexer": "ipython3",
   "version": "3.12.4"
  }
 },
 "nbformat": 4,
 "nbformat_minor": 2
}

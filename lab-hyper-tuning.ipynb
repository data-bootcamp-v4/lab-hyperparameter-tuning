{
 "cells": [
  {
   "cell_type": "markdown",
   "metadata": {},
   "source": [
    "# LAB | Hyperparameter Tuning"
   ]
  },
  {
   "cell_type": "markdown",
   "metadata": {},
   "source": [
    "**Load the data**\n",
    "\n",
    "Finally step in order to maximize the performance on your Spaceship Titanic model.\n",
    "\n",
    "The data can be found here:\n",
    "\n",
    "https://raw.githubusercontent.com/data-bootcamp-v4/data/main/spaceship_titanic.csv\n",
    "\n",
    "Metadata\n",
    "\n",
    "https://github.com/data-bootcamp-v4/data/blob/main/spaceship_titanic.md"
   ]
  },
  {
   "cell_type": "markdown",
   "metadata": {},
   "source": [
    "So far we've been training and evaluating models with default values for hyperparameters.\n",
    "\n",
    "Today we will perform the same feature engineering as before, and then compare the best working models you got so far, but now fine tuning it's hyperparameters."
   ]
  },
  {
   "cell_type": "code",
   "execution_count": 2,
   "metadata": {},
   "outputs": [],
   "source": [
    "#Libraries\n",
    "import pandas as pd\n",
    "import numpy as np\n",
    "from sklearn.model_selection import train_test_split"
   ]
  },
  {
   "cell_type": "code",
   "execution_count": 3,
   "metadata": {},
   "outputs": [
    {
     "data": {
      "text/html": [
       "<div>\n",
       "<style scoped>\n",
       "    .dataframe tbody tr th:only-of-type {\n",
       "        vertical-align: middle;\n",
       "    }\n",
       "\n",
       "    .dataframe tbody tr th {\n",
       "        vertical-align: top;\n",
       "    }\n",
       "\n",
       "    .dataframe thead th {\n",
       "        text-align: right;\n",
       "    }\n",
       "</style>\n",
       "<table border=\"1\" class=\"dataframe\">\n",
       "  <thead>\n",
       "    <tr style=\"text-align: right;\">\n",
       "      <th></th>\n",
       "      <th>PassengerId</th>\n",
       "      <th>HomePlanet</th>\n",
       "      <th>CryoSleep</th>\n",
       "      <th>Cabin</th>\n",
       "      <th>Destination</th>\n",
       "      <th>Age</th>\n",
       "      <th>VIP</th>\n",
       "      <th>RoomService</th>\n",
       "      <th>FoodCourt</th>\n",
       "      <th>ShoppingMall</th>\n",
       "      <th>Spa</th>\n",
       "      <th>VRDeck</th>\n",
       "      <th>Name</th>\n",
       "      <th>Transported</th>\n",
       "    </tr>\n",
       "  </thead>\n",
       "  <tbody>\n",
       "    <tr>\n",
       "      <th>0</th>\n",
       "      <td>0001_01</td>\n",
       "      <td>Europa</td>\n",
       "      <td>False</td>\n",
       "      <td>B/0/P</td>\n",
       "      <td>TRAPPIST-1e</td>\n",
       "      <td>39.0</td>\n",
       "      <td>False</td>\n",
       "      <td>0.0</td>\n",
       "      <td>0.0</td>\n",
       "      <td>0.0</td>\n",
       "      <td>0.0</td>\n",
       "      <td>0.0</td>\n",
       "      <td>Maham Ofracculy</td>\n",
       "      <td>False</td>\n",
       "    </tr>\n",
       "    <tr>\n",
       "      <th>1</th>\n",
       "      <td>0002_01</td>\n",
       "      <td>Earth</td>\n",
       "      <td>False</td>\n",
       "      <td>F/0/S</td>\n",
       "      <td>TRAPPIST-1e</td>\n",
       "      <td>24.0</td>\n",
       "      <td>False</td>\n",
       "      <td>109.0</td>\n",
       "      <td>9.0</td>\n",
       "      <td>25.0</td>\n",
       "      <td>549.0</td>\n",
       "      <td>44.0</td>\n",
       "      <td>Juanna Vines</td>\n",
       "      <td>True</td>\n",
       "    </tr>\n",
       "    <tr>\n",
       "      <th>2</th>\n",
       "      <td>0003_01</td>\n",
       "      <td>Europa</td>\n",
       "      <td>False</td>\n",
       "      <td>A/0/S</td>\n",
       "      <td>TRAPPIST-1e</td>\n",
       "      <td>58.0</td>\n",
       "      <td>True</td>\n",
       "      <td>43.0</td>\n",
       "      <td>3576.0</td>\n",
       "      <td>0.0</td>\n",
       "      <td>6715.0</td>\n",
       "      <td>49.0</td>\n",
       "      <td>Altark Susent</td>\n",
       "      <td>False</td>\n",
       "    </tr>\n",
       "    <tr>\n",
       "      <th>3</th>\n",
       "      <td>0003_02</td>\n",
       "      <td>Europa</td>\n",
       "      <td>False</td>\n",
       "      <td>A/0/S</td>\n",
       "      <td>TRAPPIST-1e</td>\n",
       "      <td>33.0</td>\n",
       "      <td>False</td>\n",
       "      <td>0.0</td>\n",
       "      <td>1283.0</td>\n",
       "      <td>371.0</td>\n",
       "      <td>3329.0</td>\n",
       "      <td>193.0</td>\n",
       "      <td>Solam Susent</td>\n",
       "      <td>False</td>\n",
       "    </tr>\n",
       "    <tr>\n",
       "      <th>4</th>\n",
       "      <td>0004_01</td>\n",
       "      <td>Earth</td>\n",
       "      <td>False</td>\n",
       "      <td>F/1/S</td>\n",
       "      <td>TRAPPIST-1e</td>\n",
       "      <td>16.0</td>\n",
       "      <td>False</td>\n",
       "      <td>303.0</td>\n",
       "      <td>70.0</td>\n",
       "      <td>151.0</td>\n",
       "      <td>565.0</td>\n",
       "      <td>2.0</td>\n",
       "      <td>Willy Santantines</td>\n",
       "      <td>True</td>\n",
       "    </tr>\n",
       "  </tbody>\n",
       "</table>\n",
       "</div>"
      ],
      "text/plain": [
       "  PassengerId HomePlanet CryoSleep  Cabin  Destination   Age    VIP  \\\n",
       "0     0001_01     Europa     False  B/0/P  TRAPPIST-1e  39.0  False   \n",
       "1     0002_01      Earth     False  F/0/S  TRAPPIST-1e  24.0  False   \n",
       "2     0003_01     Europa     False  A/0/S  TRAPPIST-1e  58.0   True   \n",
       "3     0003_02     Europa     False  A/0/S  TRAPPIST-1e  33.0  False   \n",
       "4     0004_01      Earth     False  F/1/S  TRAPPIST-1e  16.0  False   \n",
       "\n",
       "   RoomService  FoodCourt  ShoppingMall     Spa  VRDeck               Name  \\\n",
       "0          0.0        0.0           0.0     0.0     0.0    Maham Ofracculy   \n",
       "1        109.0        9.0          25.0   549.0    44.0       Juanna Vines   \n",
       "2         43.0     3576.0           0.0  6715.0    49.0      Altark Susent   \n",
       "3          0.0     1283.0         371.0  3329.0   193.0       Solam Susent   \n",
       "4        303.0       70.0         151.0   565.0     2.0  Willy Santantines   \n",
       "\n",
       "   Transported  \n",
       "0        False  \n",
       "1         True  \n",
       "2        False  \n",
       "3        False  \n",
       "4         True  "
      ]
     },
     "execution_count": 3,
     "metadata": {},
     "output_type": "execute_result"
    }
   ],
   "source": [
    "spaceship = pd.read_csv(\"https://raw.githubusercontent.com/data-bootcamp-v4/data/main/spaceship_titanic.csv\")\n",
    "spaceship.head()"
   ]
  },
  {
   "cell_type": "code",
   "execution_count": null,
   "metadata": {},
   "outputs": [],
   "source": []
  },
  {
   "cell_type": "markdown",
   "metadata": {},
   "source": [
    "Now perform the same as before:\n",
    "- Feature Scaling\n",
    "- Feature Selection\n"
   ]
  },
  {
   "cell_type": "code",
   "execution_count": 5,
   "metadata": {},
   "outputs": [
    {
     "name": "stdout",
     "output_type": "stream",
     "text": [
      "Selected feature indices: [ 2  7 10]\n",
      "Selected feature names: Index(['CryoSleep', 'RoomService', 'Spa'], dtype='object')\n",
      "X_train_selected shape: (6954, 3)\n",
      "X_test_selected shape: (1739, 3)\n"
     ]
    },
    {
     "name": "stderr",
     "output_type": "stream",
     "text": [
      "C:\\Users\\Shubham Singh\\AppData\\Local\\Temp\\ipykernel_20324\\4029610051.py:8: FutureWarning: Downcasting object dtype arrays on .fillna, .ffill, .bfill is deprecated and will change in a future version. Call result.infer_objects(copy=False) instead. To opt-in to the future behavior, set `pd.set_option('future.no_silent_downcasting', True)`\n",
      "  spaceship = spaceship.apply(lambda col: col.fillna(col.median()) if col.dtype in ['int64', 'float64'] else col.fillna(col.mode()[0]))\n",
      "C:\\Users\\Shubham Singh\\AppData\\Local\\Temp\\ipykernel_20324\\4029610051.py:8: FutureWarning: Downcasting object dtype arrays on .fillna, .ffill, .bfill is deprecated and will change in a future version. Call result.infer_objects(copy=False) instead. To opt-in to the future behavior, set `pd.set_option('future.no_silent_downcasting', True)`\n",
      "  spaceship = spaceship.apply(lambda col: col.fillna(col.median()) if col.dtype in ['int64', 'float64'] else col.fillna(col.mode()[0]))\n"
     ]
    }
   ],
   "source": [
    "# Perform Feature sclaing and Feature selection\n",
    "from sklearn.preprocessing import StandardScaler\n",
    "from sklearn.feature_selection import SelectKBest, f_classif\n",
    "from sklearn.pipeline import Pipeline\n",
    "from sklearn.ensemble import RandomForestClassifier\n",
    "\n",
    "# Handling missing values\n",
    "spaceship = spaceship.apply(lambda col: col.fillna(col.median()) if col.dtype in ['int64', 'float64'] else col.fillna(col.mode()[0]))\n",
    "\n",
    "# Split the data into X and y\n",
    "X = spaceship.drop(columns = ['Transported'])\n",
    "y = spaceship['Transported']\n",
    "\n",
    "# Split the data into train and test\n",
    "X_train, X_test, y_train, y_test = train_test_split(X, y, test_size = 0.2, random_state = 42)\n",
    "\n",
    "# could not convert string to float: 'Earth'\n",
    "# The error is because the column 'Planet' is a string and we need to convert it to a number\n",
    "# Convert the column 'HomePlanet' to a number\n",
    "X_train['HomePlanet'] = X_train['HomePlanet'].astype('category').cat.codes\n",
    "X_test['HomePlanet'] = X_test['HomePlanet'].astype('category').cat.codes\n",
    "\n",
    "# could not convert string to float: 'F/575/P'\n",
    "# The error is because the column 'Cabin' is a string and we need to convert it to a number\n",
    "# Convert the column 'Cabin' to a number\n",
    "X_train['Cabin'] = X_train['Cabin'].astype('category').cat.codes\n",
    "X_test['Cabin'] = X_test['Cabin'].astype('category').cat.codes\n",
    "\n",
    "# Convert the column 'Destination' to a number\n",
    "X_train['Destination'] = X_train['Destination'].astype('category').cat.codes\n",
    "X_test['Destination'] = X_test['Destination'].astype('category').cat.codes\n",
    "\n",
    "# Convert the column 'Name' to a number\n",
    "X_train['Name'] = X_train['Name'].astype('category').cat.codes\n",
    "X_test['Name'] = X_test['Name'].astype('category').cat.codes\n",
    "\n",
    "\n",
    "\n",
    "# Feature scaling\n",
    "scaler = StandardScaler()\n",
    "X_train_scaled = scaler.fit_transform(X_train)\n",
    "X_test_scaled = scaler.transform(X_test)\n",
    "\n",
    "# Feature selection\n",
    "selector = SelectKBest(f_classif, k = 3)\n",
    "X_train_selected = selector.fit_transform(X_train_scaled, y_train)\n",
    "X_test_selected = selector.transform(X_test_scaled)\n",
    "\n",
    "# Display the selected feature indices\n",
    "selected_features = selector.get_support(indices=True)\n",
    "print(\"Selected feature indices:\", selected_features)\n",
    "\n",
    "# Optionally, if you want to see the names of the selected features\n",
    "selected_feature_names = X.columns[selected_features]\n",
    "print(\"Selected feature names:\", selected_feature_names)\n",
    "\n",
    "# Check the shapes of the resulting datasets\n",
    "print(\"X_train_selected shape:\", X_train_selected.shape)\n",
    "print(\"X_test_selected shape:\", X_test_selected.shape)\n",
    "\n",
    "\n"
   ]
  },
  {
   "cell_type": "code",
   "execution_count": 6,
   "metadata": {},
   "outputs": [
    {
     "name": "stdout",
     "output_type": "stream",
     "text": [
      "Accuracy: 0.7061529614721104\n"
     ]
    }
   ],
   "source": [
    "# Perform Train and Test split\n",
    "from sklearn.model_selection import train_test_split\n",
    "from sklearn.metrics import accuracy_score\n",
    "\n",
    "# Handling missing values\n",
    "spaceship = spaceship.apply(lambda col: col.fillna(col.median()) if col.dtype in ['int64', 'float64'] else col.fillna(col.mode()[0]))\n",
    "\n",
    "# Split the data into X and y\n",
    "X = spaceship.drop(columns = ['Transported'])\n",
    "y = spaceship['Transported']\n",
    "\n",
    "# Split the data into train and test\n",
    "X_train, X_test, y_train, y_test = train_test_split(X, y, test_size = 0.2, random_state = 42)\n",
    "\n",
    "# could not convert string to float: 'Earth'\n",
    "# The error is because the column 'Planet' is a string and we need to convert it to a number\n",
    "# Convert the column 'HomePlanet' to a number\n",
    "X_train['HomePlanet'] = X_train['HomePlanet'].astype('category').cat.codes\n",
    "X_test['HomePlanet'] = X_test['HomePlanet'].astype('category').cat.codes\n",
    "\n",
    "# could not convert string to float: 'F/575/P'\n",
    "# The error is because the column 'Cabin' is a string and we need to convert it to a number\n",
    "# Convert the column 'Cabin' to a number\n",
    "X_train['Cabin'] = X_train['Cabin'].astype('category').cat.codes\n",
    "X_test['Cabin'] = X_test['Cabin'].astype('category').cat.codes\n",
    "\n",
    "# Convert the column 'Destination' to a number\n",
    "X_train['Destination'] = X_train['Destination'].astype('category').cat.codes\n",
    "X_test['Destination'] = X_test['Destination'].astype('category').cat.codes\n",
    "\n",
    "# Convert the column 'Name' to a number\n",
    "X_train['Name'] = X_train['Name'].astype('category').cat.codes\n",
    "X_test['Name'] = X_test['Name'].astype('category').cat.codes\n",
    "\n",
    "# Create a pipeline\n",
    "pipe = Pipeline([\n",
    "    ('scaler', StandardScaler()),\n",
    "    ('feature_selection', SelectKBest(f_classif, k = 3)),\n",
    "    ('model', RandomForestClassifier(random_state = 42))\n",
    "])\n",
    "\n",
    "# Fit the model\n",
    "pipe.fit(X_train, y_train)\n",
    "\n",
    "# Predict the target\n",
    "y_pred = pipe.predict(X_test)\n",
    "\n",
    "# Calculate the accuracy\n",
    "accuracy = accuracy_score(y_test, y_pred)\n",
    "\n",
    "# Print the accuracy\n",
    "print(\"Accuracy:\", accuracy)"
   ]
  },
  {
   "cell_type": "markdown",
   "metadata": {},
   "source": [
    "- Now let's use the best model we got so far in order to see how it can improve when we fine tune it's hyperparameters."
   ]
  },
  {
   "cell_type": "code",
   "execution_count": 8,
   "metadata": {},
   "outputs": [
    {
     "name": "stdout",
     "output_type": "stream",
     "text": [
      "Accuracy: 0.7809085681426107\n"
     ]
    }
   ],
   "source": [
    "# Random Forest\n",
    "from sklearn.ensemble import RandomForestClassifier\n",
    "\n",
    "# Create a RandomForestClassifier\n",
    "rf_clf = RandomForestClassifier(n_estimators=100, random_state=42)\n",
    "rf_clf.fit(X_train_selected, y_train)\n",
    "\n",
    "# Fit the model\n",
    "rf_clf.fit(X_train, y_train)\n",
    "\n",
    "# Predict the target\n",
    "y_pred = rf_clf.predict(X_test)\n",
    "\n",
    "# Calculate the accuracy\n",
    "accuracy = accuracy_score(y_test, y_pred)\n",
    "\n",
    "# Print the accuracy\n",
    "print(\"Accuracy:\", accuracy)"
   ]
  },
  {
   "cell_type": "markdown",
   "metadata": {},
   "source": [
    "- Evaluate your model"
   ]
  },
  {
   "cell_type": "code",
   "execution_count": 9,
   "metadata": {},
   "outputs": [
    {
     "name": "stdout",
     "output_type": "stream",
     "text": [
      "              precision    recall  f1-score   support\n",
      "\n",
      "       False       0.83      0.70      0.76       861\n",
      "        True       0.74      0.86      0.80       878\n",
      "\n",
      "    accuracy                           0.78      1739\n",
      "   macro avg       0.79      0.78      0.78      1739\n",
      "weighted avg       0.79      0.78      0.78      1739\n",
      "\n",
      "Feature importances: [0.10508564 0.0315417  0.08604683 0.13717838 0.01758201 0.09181163\n",
      " 0.00178289 0.09599075 0.07452939 0.06209901 0.10951763 0.0854912\n",
      " 0.10134295]\n",
      "Selected feature names: Index(['CryoSleep', 'RoomService', 'Spa'], dtype='object')\n"
     ]
    }
   ],
   "source": [
    "# Evaluate your model\n",
    "from sklearn.metrics import classification_report\n",
    "\n",
    "# Print the classification report\n",
    "print(classification_report(y_test, y_pred))\n",
    "\n",
    "# Print the feature importances\n",
    "print(\"Feature importances:\", rf_clf.feature_importances_)\n",
    "print(\"Selected feature names:\", selected_feature_names)\n",
    "\n",
    "\n"
   ]
  },
  {
   "cell_type": "markdown",
   "metadata": {},
   "source": [
    "**Grid/Random Search**"
   ]
  },
  {
   "cell_type": "markdown",
   "metadata": {},
   "source": [
    "For this lab we will use Grid Search."
   ]
  },
  {
   "cell_type": "markdown",
   "metadata": {},
   "source": [
    "- Define hyperparameters to fine tune."
   ]
  },
  {
   "cell_type": "code",
   "execution_count": 10,
   "metadata": {},
   "outputs": [],
   "source": [
    "# define hyperparameters to fine tune\n",
    "param_grid = {\n",
    "    'model__n_estimators': [50, 100, 200],\n",
    "    'model__max_depth': [10, 20, 30, 40, 50]\n",
    "}\n"
   ]
  },
  {
   "cell_type": "markdown",
   "metadata": {},
   "source": [
    "- Run Grid Search"
   ]
  },
  {
   "cell_type": "code",
   "execution_count": 11,
   "metadata": {},
   "outputs": [
    {
     "name": "stdout",
     "output_type": "stream",
     "text": [
      "Best hyperparameters: {'model__max_depth': 10, 'model__n_estimators': 100}\n",
      "Accuracy: 0.7274295572167913\n",
      "              precision    recall  f1-score   support\n",
      "\n",
      "       False       0.76      0.66      0.71       861\n",
      "        True       0.70      0.79      0.75       878\n",
      "\n",
      "    accuracy                           0.73      1739\n",
      "   macro avg       0.73      0.73      0.73      1739\n",
      "weighted avg       0.73      0.73      0.73      1739\n",
      "\n",
      "Feature importances: [0.33413448 0.33562842 0.3302371 ]\n",
      "Selected feature names: Index(['CryoSleep', 'RoomService', 'Spa'], dtype='object')\n"
     ]
    }
   ],
   "source": [
    "# Fine tune the model\n",
    "from sklearn.model_selection import GridSearchCV\n",
    "\n",
    "# Create a GridSearchCV\n",
    "grid_search = GridSearchCV(pipe, param_grid, cv = 5, n_jobs = -1)\n",
    "\n",
    "# Fit the model\n",
    "grid_search.fit(X_train, y_train)\n",
    "\n",
    "# Print the best hyperparameters\n",
    "print(\"Best hyperparameters:\", grid_search.best_params_)\n",
    "\n",
    "# Predict the target\n",
    "y_pred = grid_search.predict(X_test)\n",
    "\n",
    "# Calculate the accuracy\n",
    "accuracy = accuracy_score(y_test, y_pred)\n",
    "\n",
    "# Print the accuracy\n",
    "print(\"Accuracy:\", accuracy)\n",
    "\n",
    "# Print the classification report\n",
    "print(classification_report(y_test, y_pred))\n",
    "\n",
    "# Print the feature importances\n",
    "print(\"Feature importances:\", grid_search.best_estimator_.named_steps['model'].feature_importances_)\n",
    "print(\"Selected feature names:\", selected_feature_names)"
   ]
  },
  {
   "cell_type": "markdown",
   "metadata": {},
   "source": [
    "- Evaluate your model"
   ]
  },
  {
   "cell_type": "code",
   "execution_count": 12,
   "metadata": {},
   "outputs": [
    {
     "name": "stdout",
     "output_type": "stream",
     "text": [
      "              precision    recall  f1-score   support\n",
      "\n",
      "       False       0.76      0.66      0.71       861\n",
      "        True       0.70      0.79      0.75       878\n",
      "\n",
      "    accuracy                           0.73      1739\n",
      "   macro avg       0.73      0.73      0.73      1739\n",
      "weighted avg       0.73      0.73      0.73      1739\n",
      "\n",
      "Feature importances: [0.33413448 0.33562842 0.3302371 ]\n",
      "Selected feature names: Index(['CryoSleep', 'RoomService', 'Spa'], dtype='object')\n"
     ]
    }
   ],
   "source": [
    "# evaluate the model\n",
    "\n",
    "# Print the classification report\n",
    "print(classification_report(y_test, y_pred))\n",
    "\n",
    "# Print the feature importances\n",
    "print(\"Feature importances:\", grid_search.best_estimator_.named_steps['model'].feature_importances_)\n",
    "\n",
    "# Print the selected feature names\n",
    "print(\"Selected feature names:\", selected_feature_names)\n",
    "\n"
   ]
  }
 ],
 "metadata": {
  "kernelspec": {
   "display_name": "Python 3",
   "language": "python",
   "name": "python3"
  },
  "language_info": {
   "codemirror_mode": {
    "name": "ipython",
    "version": 3
   },
   "file_extension": ".py",
   "mimetype": "text/x-python",
   "name": "python",
   "nbconvert_exporter": "python",
   "pygments_lexer": "ipython3",
   "version": "3.11.9"
  }
 },
 "nbformat": 4,
 "nbformat_minor": 2
}
